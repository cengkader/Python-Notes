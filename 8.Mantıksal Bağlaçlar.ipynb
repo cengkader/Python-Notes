{
 "cells": [
  {
   "cell_type": "markdown",
   "id": "ade21a93",
   "metadata": {},
   "source": [
    "**Mantıksal Bağlaçlar**"
   ]
  },
  {
   "cell_type": "markdown",
   "id": "2fc0092b",
   "metadata": {},
   "source": [
    "Mantıksal bağlaçlar daha çok karşılaştırma işlemini kontrol ettiğimiz zamanlarda kullanılır."
   ]
  },
  {
   "cell_type": "markdown",
   "id": "e0ff2e40",
   "metadata": {},
   "source": [
    "**and** Operatörü"
   ]
  },
  {
   "cell_type": "markdown",
   "id": "711ade63",
   "metadata": {},
   "source": [
    "Bu mantıksal bağlaç, bütün karşılaştırma işlemlerinin sonucunun True olmasına bakar.\n",
    "Bağlanan karşılaştırma işlemlerinin hepsinin kendi içinde sonucu True ise genel sonuç True,\n",
    "diğer durumlarda ise sonuç False çıkar."
   ]
  },
  {
   "cell_type": "code",
   "execution_count": 2,
   "id": "4ea0e544",
   "metadata": {},
   "outputs": [
    {
     "data": {
      "text/plain": [
       "True"
      ]
     },
     "execution_count": 2,
     "metadata": {},
     "output_type": "execute_result"
    }
   ],
   "source": [
    "1<2 and \"Python\"==\"Python\""
   ]
  },
  {
   "cell_type": "code",
   "execution_count": 3,
   "id": "27ced60c",
   "metadata": {},
   "outputs": [
    {
     "data": {
      "text/plain": [
       "False"
      ]
     },
     "execution_count": 3,
     "metadata": {},
     "output_type": "execute_result"
    }
   ],
   "source": [
    "2>3 and \"Java\"==\"Java\""
   ]
  },
  {
   "cell_type": "code",
   "execution_count": 4,
   "id": "7b9882d1",
   "metadata": {},
   "outputs": [
    {
     "data": {
      "text/plain": [
       "True"
      ]
     },
     "execution_count": 4,
     "metadata": {},
     "output_type": "execute_result"
    }
   ],
   "source": [
    "2<3 and \"elma\"!=\"armut\" and 5==5"
   ]
  },
  {
   "cell_type": "markdown",
   "id": "294c2e8d",
   "metadata": {},
   "source": [
    "NOT: İşlemlerin tek birinin bile sonucu False çıkarsa genel sonuç False çıkar."
   ]
  },
  {
   "cell_type": "markdown",
   "id": "22efdd10",
   "metadata": {},
   "source": [
    "**or** Operatörü"
   ]
  },
  {
   "cell_type": "markdown",
   "id": "f4579587",
   "metadata": {},
   "source": [
    "Bu mantıksal bağlaç, bütün karşılaştırma işlemlerinin sonuçlarından \"en az birinin\" True \n",
    "olmasına bakar.Bağlanan karşılaştırma işlemlerinin en az birinin True olması durumunda genel\n",
    "sonuç True,diğer durumlarda ise sonuç False çıkar.\n"
   ]
  },
  {
   "cell_type": "code",
   "execution_count": 5,
   "id": "cf6c93df",
   "metadata": {},
   "outputs": [
    {
     "data": {
      "text/plain": [
       "True"
      ]
     },
     "execution_count": 5,
     "metadata": {},
     "output_type": "execute_result"
    }
   ],
   "source": [
    "1!=2 or \"Python\"==\"Java\""
   ]
  },
  {
   "cell_type": "code",
   "execution_count": 6,
   "id": "fae9d64f",
   "metadata": {},
   "outputs": [
    {
     "data": {
      "text/plain": [
       "True"
      ]
     },
     "execution_count": 6,
     "metadata": {},
     "output_type": "execute_result"
    }
   ],
   "source": [
    "1>2 or \"Elma\"==\"Armut\" or 1.2<7.4"
   ]
  },
  {
   "cell_type": "code",
   "execution_count": 7,
   "id": "ee9c5aba",
   "metadata": {},
   "outputs": [
    {
     "data": {
      "text/plain": [
       "False"
      ]
     },
     "execution_count": 7,
     "metadata": {},
     "output_type": "execute_result"
    }
   ],
   "source": [
    "1>2 or \"Elma\"==\"Armut\" or 1.2>7.4"
   ]
  },
  {
   "cell_type": "markdown",
   "id": "948f7ef2",
   "metadata": {},
   "source": [
    "**not** Operatörü"
   ]
  },
  {
   "cell_type": "markdown",
   "id": "e041ef11",
   "metadata": {},
   "source": [
    "not operatörü aslında bir mantıksal bağlaç değildir.Bu operatör sadece bir mantıksal değeri veya \n",
    "karşılaştırma işleminin tam tersini sonuca çevirir. Yani True olan bir sonucu False'e , False olan \n",
    "bir sonucu True'ya çevirir."
   ]
  },
  {
   "cell_type": "code",
   "execution_count": 9,
   "id": "db2f028f",
   "metadata": {},
   "outputs": [
    {
     "data": {
      "text/plain": [
       "True"
      ]
     },
     "execution_count": 9,
     "metadata": {},
     "output_type": "execute_result"
    }
   ],
   "source": [
    "2==2"
   ]
  },
  {
   "cell_type": "code",
   "execution_count": 8,
   "id": "543d891f",
   "metadata": {},
   "outputs": [
    {
     "data": {
      "text/plain": [
       "False"
      ]
     },
     "execution_count": 8,
     "metadata": {},
     "output_type": "execute_result"
    }
   ],
   "source": [
    "not 2==2"
   ]
  },
  {
   "cell_type": "code",
   "execution_count": 10,
   "id": "55cbbdbf",
   "metadata": {},
   "outputs": [
    {
     "data": {
      "text/plain": [
       "True"
      ]
     },
     "execution_count": 10,
     "metadata": {},
     "output_type": "execute_result"
    }
   ],
   "source": [
    "not \"Python\"==\"Java\""
   ]
  },
  {
   "cell_type": "markdown",
   "id": "214982ca",
   "metadata": {},
   "source": [
    "**ÖRNEK**"
   ]
  },
  {
   "cell_type": "code",
   "execution_count": 13,
   "id": "876f04b3",
   "metadata": {},
   "outputs": [
    {
     "data": {
      "text/plain": [
       "False"
      ]
     },
     "execution_count": 13,
     "metadata": {},
     "output_type": "execute_result"
    }
   ],
   "source": [
    "not (2.14>3.39 or (5!=6 and 2==2))"
   ]
  },
  {
   "cell_type": "code",
   "execution_count": null,
   "id": "0fe12e82",
   "metadata": {},
   "outputs": [],
   "source": []
  },
  {
   "cell_type": "code",
   "execution_count": null,
   "id": "7ae1428e",
   "metadata": {},
   "outputs": [],
   "source": []
  },
  {
   "cell_type": "code",
   "execution_count": null,
   "id": "00d89610",
   "metadata": {},
   "outputs": [],
   "source": []
  }
 ],
 "metadata": {
  "kernelspec": {
   "display_name": "Python 3 (ipykernel)",
   "language": "python",
   "name": "python3"
  },
  "language_info": {
   "codemirror_mode": {
    "name": "ipython",
    "version": 3
   },
   "file_extension": ".py",
   "mimetype": "text/x-python",
   "name": "python",
   "nbconvert_exporter": "python",
   "pygments_lexer": "ipython3",
   "version": "3.9.12"
  }
 },
 "nbformat": 4,
 "nbformat_minor": 5
}
