{
 "cells": [
  {
   "cell_type": "markdown",
   "id": "8e351117",
   "metadata": {},
   "source": [
    "**Print() Fonksiyonunun Özellikleri**"
   ]
  },
  {
   "cell_type": "markdown",
   "id": "22c4f298",
   "metadata": {},
   "source": [
    "**sep parametresi**"
   ]
  },
  {
   "cell_type": "markdown",
   "id": "dbfd691c",
   "metadata": {},
   "source": [
    "print() fonksiyonunda kullanılabilen sep parametresi yazdırdığımız değerlerin arasına istediğimiz karakterlerin yerleştirilmesini sağlar.Eğer bu parametreyi kullanmazsak değerlerin arasına varsayılan olarak boşluk yerleştirildiğini biliyoruz."
   ]
  },
  {
   "cell_type": "code",
   "execution_count": 2,
   "id": "025564bc",
   "metadata": {},
   "outputs": [
    {
     "name": "stdout",
     "output_type": "stream",
     "text": [
      "35 45 53 69\n"
     ]
    }
   ],
   "source": [
    "#Burada değerler arasında boşluk bırakıldı.\n",
    "print(35,45,53,69)"
   ]
  },
  {
   "cell_type": "code",
   "execution_count": 1,
   "id": "bfa2c76f",
   "metadata": {},
   "outputs": [
    {
     "name": "stdout",
     "output_type": "stream",
     "text": [
      "35/45/53/69\n"
     ]
    }
   ],
   "source": [
    "#Burada sep parametresini kullanarak her bir değerin arasına \"/\" işareti koyduk.\n",
    "print(35,45,53,69,sep=\"/\")"
   ]
  },
  {
   "cell_type": "code",
   "execution_count": 3,
   "id": "7a331734",
   "metadata": {},
   "outputs": [
    {
     "name": "stdout",
     "output_type": "stream",
     "text": [
      "35-45-53-69\n"
     ]
    }
   ],
   "source": [
    "#Burada sep parametresini kullanarak her bir değerin arasına \"-\" işareti koyduk.\n",
    "print(35,45,53,69,sep=\"-\")"
   ]
  },
  {
   "cell_type": "code",
   "execution_count": 4,
   "id": "aa64c44b",
   "metadata": {},
   "outputs": [
    {
     "name": "stdout",
     "output_type": "stream",
     "text": [
      "Python\n",
      "Programlama\n",
      "Dili\n"
     ]
    }
   ],
   "source": [
    "print(\"Python\",\"Programlama\",\"Dili\",sep=\"\\n\")"
   ]
  },
  {
   "cell_type": "code",
   "execution_count": 5,
   "id": "b0e4d7ad",
   "metadata": {},
   "outputs": [
    {
     "name": "stdout",
     "output_type": "stream",
     "text": [
      "Python,Programlama,Dili\n"
     ]
    }
   ],
   "source": [
    "print(\"Python\",\"Programlama\",\"Dili\",sep=\",\")"
   ]
  },
  {
   "cell_type": "code",
   "execution_count": 6,
   "id": "9190f397",
   "metadata": {},
   "outputs": [
    {
     "name": "stdout",
     "output_type": "stream",
     "text": [
      "06/08/2008\n"
     ]
    }
   ],
   "source": [
    "print(\"06\",\"08\",\"2008\",sep=\"/\")"
   ]
  },
  {
   "cell_type": "markdown",
   "id": "b562dbd1",
   "metadata": {},
   "source": [
    "**Yıldızlı Parametreler**"
   ]
  },
  {
   "cell_type": "markdown",
   "id": "e07d1629",
   "metadata": {},
   "source": [
    "Eğer bir stringin başına * işareti koyup, print() fonksiyonuna gönderirsek bu string karakterlerine ayrılır ve her bir karakter ayrı birer string olarak davranılarak ekrana basılır."
   ]
  },
  {
   "cell_type": "code",
   "execution_count": 7,
   "id": "38c08097",
   "metadata": {},
   "outputs": [
    {
     "name": "stdout",
     "output_type": "stream",
     "text": [
      "P y t h o n\n"
     ]
    }
   ],
   "source": [
    "print(*\"Python\")"
   ]
  },
  {
   "cell_type": "code",
   "execution_count": 8,
   "id": "32fc1e73",
   "metadata": {},
   "outputs": [
    {
     "name": "stdout",
     "output_type": "stream",
     "text": [
      "P y t h o n\n"
     ]
    }
   ],
   "source": [
    "a=\"Python\"\n",
    "print(*a)"
   ]
  },
  {
   "cell_type": "code",
   "execution_count": 9,
   "id": "b1fe7ce1",
   "metadata": {},
   "outputs": [
    {
     "name": "stdout",
     "output_type": "stream",
     "text": [
      "P\n",
      "y\n",
      "t\n",
      "h\n",
      "o\n",
      "n\n"
     ]
    }
   ],
   "source": [
    "print(*a,sep=\"\\n\")"
   ]
  },
  {
   "cell_type": "code",
   "execution_count": 10,
   "id": "31a562ea",
   "metadata": {},
   "outputs": [
    {
     "name": "stdout",
     "output_type": "stream",
     "text": [
      "T.B.M.M\n"
     ]
    }
   ],
   "source": [
    "a=\"TBMM\"\n",
    "print(*a,sep=\".\")"
   ]
  },
  {
   "cell_type": "markdown",
   "id": "2cfee01b",
   "metadata": {},
   "source": [
    "**FORMATLAMA(BİÇİMLENDİRME)**"
   ]
  },
  {
   "cell_type": "markdown",
   "id": "bb25da1d",
   "metadata": {},
   "source": [
    "Programlama yaparken bazı yerlerde, bir stringin içinde daha önceden tanımlı string,float,int vs değerlerini yerleştirebilmek için stringi formatlamamız gerekir. Bunun için Python'da format() fonksiyonu kullanılır."
   ]
  },
  {
   "cell_type": "code",
   "execution_count": 11,
   "id": "3bd1b22a",
   "metadata": {},
   "outputs": [
    {
     "name": "stdout",
     "output_type": "stream",
     "text": [
      "14.2/15.6/88.8\n"
     ]
    }
   ],
   "source": [
    "#Burada 3 tane süslü parantez var ve bunların yerine sırasıyla format fonksiyonunun değerleri geçiyor.\n",
    "print(\"{}/{}/{}\".format(14.2,15.6,88.8))"
   ]
  },
  {
   "cell_type": "code",
   "execution_count": 12,
   "id": "bf10d8e4",
   "metadata": {},
   "outputs": [
    {
     "name": "stdout",
     "output_type": "stream",
     "text": [
      "14.2/15.6/88.8\n"
     ]
    }
   ],
   "source": [
    "print(14.2,15.6,88.8,sep=\"/\")"
   ]
  },
  {
   "cell_type": "markdown",
   "id": "819047d6",
   "metadata": {},
   "source": [
    "**ÖRNEK**"
   ]
  },
  {
   "cell_type": "code",
   "execution_count": 13,
   "id": "d50ced43",
   "metadata": {},
   "outputs": [
    {
     "name": "stdout",
     "output_type": "stream",
     "text": [
      "6+8=14\n"
     ]
    }
   ],
   "source": [
    "a=6\n",
    "b=8\n",
    "print(\"{}+{}={}\".format(a,b,a+b))"
   ]
  },
  {
   "cell_type": "markdown",
   "id": "d193e97d",
   "metadata": {},
   "source": [
    "**ÖRNEK**"
   ]
  },
  {
   "cell_type": "code",
   "execution_count": 14,
   "id": "4c2a0ed2",
   "metadata": {},
   "outputs": [
    {
     "name": "stdout",
     "output_type": "stream",
     "text": [
      "python,programlama,dili\n"
     ]
    }
   ],
   "source": [
    "\"\"\"\n",
    "Süslü parantezlerin içindeki sayılar format fonksiyonunun içinden hangi sıradaki değerin geleciğini \n",
    "söyler.\n",
    "\n",
    "\"\"\"\n",
    "print(\"{1},{0},{2}\".format('programlama','python','dili'))\n"
   ]
  },
  {
   "cell_type": "code",
   "execution_count": 15,
   "id": "d0bde16d",
   "metadata": {},
   "outputs": [
    {
     "name": "stdout",
     "output_type": "stream",
     "text": [
      "3.14 5.57 7.889\n"
     ]
    }
   ],
   "source": [
    "\"\"\"\n",
    "Süslü parantezlerin içindeki kullanım ondalıklı kısmın sadece iki basamağına kadar almak \n",
    "istediğimizi söyler.\n",
    "\n",
    "\"\"\"\n",
    "\n",
    "print(\"{:.2f} {:.2f} {:.3f}\".format(3.1415,5.5662,7.8892))"
   ]
  },
  {
   "cell_type": "markdown",
   "id": "9eef0966",
   "metadata": {},
   "source": [
    "**Stringlerdeki Özel Karakterler**"
   ]
  },
  {
   "cell_type": "markdown",
   "id": "00801729",
   "metadata": {},
   "source": [
    "**\\n Karakteri(Yeni Satır)**"
   ]
  },
  {
   "cell_type": "markdown",
   "id": "5575402d",
   "metadata": {},
   "source": [
    "Eğer print() fonksiyonu stringlerde \\n karakteriyle karşılaşırsa alt satırdan ekrana yazdırma işlemine devam eder."
   ]
  },
  {
   "cell_type": "code",
   "execution_count": 16,
   "id": "027375a9",
   "metadata": {},
   "outputs": [
    {
     "name": "stdout",
     "output_type": "stream",
     "text": [
      "Hello?\n",
      "How are you?\n",
      "Are u okey?\n"
     ]
    }
   ],
   "source": [
    "print(\"Hello?\\nHow are you?\\nAre u okey?\")"
   ]
  },
  {
   "cell_type": "code",
   "execution_count": 17,
   "id": "af73c2e1",
   "metadata": {},
   "outputs": [
    {
     "name": "stdout",
     "output_type": "stream",
     "text": [
      "Hello\n",
      "User\n"
     ]
    }
   ],
   "source": [
    "print(\"Hello\\nUser\")"
   ]
  },
  {
   "cell_type": "markdown",
   "id": "f1562b42",
   "metadata": {},
   "source": [
    "**\\t Karakteri (Sekme, Tab)**"
   ]
  },
  {
   "cell_type": "markdown",
   "id": "d447e949",
   "metadata": {},
   "source": [
    "Eğer print() fonksiyonu stringlerde \\t karakteriyle karşılaşırsa bir tab boşluk bırakarak ekrana yazdırma işlemine devam eder."
   ]
  },
  {
   "cell_type": "markdown",
   "id": "92edb650",
   "metadata": {},
   "source": [
    "**ÖRNEK**"
   ]
  },
  {
   "cell_type": "code",
   "execution_count": 18,
   "id": "6cfc5cbf",
   "metadata": {},
   "outputs": [
    {
     "name": "stdout",
     "output_type": "stream",
     "text": [
      "January\tFebruary\tMarch\tApril\n"
     ]
    }
   ],
   "source": [
    "print(\"January\\tFebruary\\tMarch\\tApril\")"
   ]
  },
  {
   "cell_type": "markdown",
   "id": "ccf5fb6d",
   "metadata": {},
   "source": [
    "NOT:\"y\\t\" ifadesi, y karakterinin ardından bir sekme (tab) karakterini temsil edebilir."
   ]
  },
  {
   "cell_type": "code",
   "execution_count": 19,
   "id": "86323a82",
   "metadata": {},
   "outputs": [
    {
     "name": "stdout",
     "output_type": "stream",
     "text": [
      "Ocak\tŞubat\tMart\t\n"
     ]
    }
   ],
   "source": [
    "print(\"Ocak\\tŞubat\\tMart\\t\")"
   ]
  },
  {
   "cell_type": "code",
   "execution_count": 20,
   "id": "e5342da5",
   "metadata": {},
   "outputs": [
    {
     "name": "stdout",
     "output_type": "stream",
     "text": [
      "Adı:\tAli\n",
      "Yaşı:\t25\n"
     ]
    }
   ],
   "source": [
    "print(\"Adı:\\tAli\\nYaşı:\\t25\")"
   ]
  },
  {
   "cell_type": "markdown",
   "id": "8b86c566",
   "metadata": {},
   "source": [
    "**\\ (Ters bölü)**"
   ]
  },
  {
   "cell_type": "code",
   "execution_count": 21,
   "id": "f6757515",
   "metadata": {},
   "outputs": [
    {
     "name": "stdout",
     "output_type": "stream",
     "text": [
      "C:\\Kullanıcılar\\Belgeler\\Dosyalar\n"
     ]
    }
   ],
   "source": [
    "print(\"C:\\\\Kullanıcılar\\\\Belgeler\\\\Dosyalar\")"
   ]
  },
  {
   "cell_type": "markdown",
   "id": "ef9d8b10",
   "metadata": {},
   "source": [
    "**\" veya ': Çift veya Tek Tırnak İşareti**"
   ]
  },
  {
   "cell_type": "code",
   "execution_count": 22,
   "id": "02774121",
   "metadata": {},
   "outputs": [
    {
     "name": "stdout",
     "output_type": "stream",
     "text": [
      "Bu bir \"örnek\" metindir.\n"
     ]
    }
   ],
   "source": [
    "print(\"Bu bir \\\"örnek\\\" metindir.\")"
   ]
  },
  {
   "cell_type": "code",
   "execution_count": 23,
   "id": "aa165adc",
   "metadata": {},
   "outputs": [
    {
     "name": "stdout",
     "output_type": "stream",
     "text": [
      "Bu bir 'örnek' metindir.\n"
     ]
    }
   ],
   "source": [
    "print('Bu bir \\'örnek\\' metindir.')"
   ]
  },
  {
   "cell_type": "code",
   "execution_count": 24,
   "id": "08d33255",
   "metadata": {},
   "outputs": [
    {
     "name": "stdout",
     "output_type": "stream",
     "text": [
      "Kader'in dersi var.\n"
     ]
    }
   ],
   "source": [
    "print('Kader\\'in dersi var.' )"
   ]
  },
  {
   "cell_type": "markdown",
   "id": "3d128da4",
   "metadata": {},
   "source": [
    "**\\b: Geri Alma (Backspace)**"
   ]
  },
  {
   "cell_type": "code",
   "execution_count": 25,
   "id": "6fb5eb2f",
   "metadata": {},
   "outputs": [
    {
     "name": "stdout",
     "output_type": "stream",
     "text": [
      "Merhabaa\b Dünya\n"
     ]
    }
   ],
   "source": [
    "print(\"Merhabaa\\b Dünya\")"
   ]
  },
  {
   "cell_type": "code",
   "execution_count": 26,
   "id": "a824d9be",
   "metadata": {},
   "outputs": [
    {
     "name": "stdout",
     "output_type": "stream",
     "text": [
      "Hel\blo\b World\n"
     ]
    }
   ],
   "source": [
    "print(\"Hel\\blo\\b World\")"
   ]
  },
  {
   "cell_type": "markdown",
   "id": "fd889e3d",
   "metadata": {},
   "source": [
    "**\\r: Satır Başı İmleci**"
   ]
  },
  {
   "cell_type": "code",
   "execution_count": 27,
   "id": "650ecd33",
   "metadata": {},
   "outputs": [
    {
     "name": "stdout",
     "output_type": "stream",
     "text": [
      "Merhaba\r",
      "Dünya\n"
     ]
    }
   ],
   "source": [
    "print(\"Merhaba\\rDünya\")"
   ]
  },
  {
   "cell_type": "markdown",
   "id": "47c8a5c9",
   "metadata": {},
   "source": [
    "**type() Fonksiyonu**"
   ]
  },
  {
   "cell_type": "markdown",
   "id": "70fdbf65",
   "metadata": {},
   "source": [
    "**type() fonksiyonu içine gönderilen değerin hangi veri tipinden olduğunu söyler.**"
   ]
  },
  {
   "cell_type": "code",
   "execution_count": 29,
   "id": "4eb335f7",
   "metadata": {},
   "outputs": [
    {
     "name": "stdout",
     "output_type": "stream",
     "text": [
      "<class 'int'>\n"
     ]
    }
   ],
   "source": [
    "a=65\n",
    "print(type(a))"
   ]
  },
  {
   "cell_type": "code",
   "execution_count": 30,
   "id": "c166bd71",
   "metadata": {},
   "outputs": [
    {
     "name": "stdout",
     "output_type": "stream",
     "text": [
      "<class 'float'>\n"
     ]
    }
   ],
   "source": [
    "b=8.14\n",
    "print(type(8.14))"
   ]
  },
  {
   "cell_type": "code",
   "execution_count": 31,
   "id": "b89659a9",
   "metadata": {},
   "outputs": [
    {
     "name": "stdout",
     "output_type": "stream",
     "text": [
      "<class 'str'>\n"
     ]
    }
   ],
   "source": [
    "k='Python'\n",
    "print(type(k))"
   ]
  },
  {
   "cell_type": "code",
   "execution_count": null,
   "id": "66a60ee5",
   "metadata": {},
   "outputs": [],
   "source": []
  }
 ],
 "metadata": {
  "kernelspec": {
   "display_name": "Python 3 (ipykernel)",
   "language": "python",
   "name": "python3"
  },
  "language_info": {
   "codemirror_mode": {
    "name": "ipython",
    "version": 3
   },
   "file_extension": ".py",
   "mimetype": "text/x-python",
   "name": "python",
   "nbconvert_exporter": "python",
   "pygments_lexer": "ipython3",
   "version": "3.9.12"
  }
 },
 "nbformat": 4,
 "nbformat_minor": 5
}
