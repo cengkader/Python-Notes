{
 "cells": [
  {
   "cell_type": "markdown",
   "id": "8fc7c369",
   "metadata": {},
   "source": [
    "**DEMETLER(TUPLES)**"
   ]
  },
  {
   "cell_type": "markdown",
   "id": "e230ae19",
   "metadata": {},
   "source": [
    "Demetler, sıralı değiştirilemez veri yapılarıdır.Demetler, birçok öğeyi bir arada tutmanıza ve bu öğelerin sırasını korumanıza yardımcı olurlar. Listeler gibi veri topluluklarını saklamak için kullanılabilirler, ancak listenin aksine, demetler değiştirilemezdir, yani bir kez oluşturulduktan sonra içeriği değiştirilemez."
   ]
  },
  {
   "cell_type": "markdown",
   "id": "9addf109",
   "metadata": {},
   "source": [
    "*Değiştirilemez özelliğinden dolayı bir programda değiştirilmesini istemediğimiz değerler varsa herhangi bir demet içerisinde bu değerleri saklayabiliriz."
   ]
  },
  {
   "cell_type": "markdown",
   "id": "08a761da",
   "metadata": {},
   "source": [
    "NOT: Demetlerin içeriği değiştirilemez olduğundan, elemanlarına doğrudan atama yapmak mümkün değildir. (Stringlerde olduğu gibi)"
   ]
  },
  {
   "cell_type": "markdown",
   "id": "83b82698",
   "metadata": {},
   "source": [
    "**Demet Oluşturma**"
   ]
  },
  {
   "cell_type": "code",
   "execution_count": 1,
   "id": "84f4ec4b",
   "metadata": {},
   "outputs": [
    {
     "data": {
      "text/plain": [
       "tuple"
      ]
     },
     "execution_count": 1,
     "metadata": {},
     "output_type": "execute_result"
    }
   ],
   "source": [
    "#Demet elemanları parantez içine alınarak demetler oluşturulabilir.\n",
    "demet=(1,2,3,4,5,6,7,8,9)\n",
    "type(demet)"
   ]
  },
  {
   "cell_type": "code",
   "execution_count": 2,
   "id": "e362de31",
   "metadata": {},
   "outputs": [
    {
     "data": {
      "text/plain": [
       "tuple"
      ]
     },
     "execution_count": 2,
     "metadata": {},
     "output_type": "execute_result"
    }
   ],
   "source": [
    "#Tek elemanlı bir demet şu şekilde tanımlanabilir:\n",
    "demet_2=(5,)\n",
    "type(demet_2)"
   ]
  },
  {
   "cell_type": "code",
   "execution_count": 3,
   "id": "330e3fe9",
   "metadata": {},
   "outputs": [
    {
     "data": {
      "text/plain": [
       "4"
      ]
     },
     "execution_count": 3,
     "metadata": {},
     "output_type": "execute_result"
    }
   ],
   "source": [
    "demet_3=(1,2,5,\"Hello\",9)\n",
    "demet[3]"
   ]
  },
  {
   "cell_type": "code",
   "execution_count": 4,
   "id": "0d8ddcc5",
   "metadata": {},
   "outputs": [
    {
     "data": {
      "text/plain": [
       "9"
      ]
     },
     "execution_count": 4,
     "metadata": {},
     "output_type": "execute_result"
    }
   ],
   "source": [
    "#Oluşturduğumuz demetin elemanlarına ulaşabiliriz.(indeksleme)\n",
    "demet=(1,2,3,4,5,6,7,8,9)\n",
    "demet[8]"
   ]
  },
  {
   "cell_type": "code",
   "execution_count": 5,
   "id": "e96faf47",
   "metadata": {},
   "outputs": [
    {
     "data": {
      "text/plain": [
       "1"
      ]
     },
     "execution_count": 5,
     "metadata": {},
     "output_type": "execute_result"
    }
   ],
   "source": [
    "#Demetin baştaki elemanını şu şekilde bulabiliriz:\n",
    "demet[0]"
   ]
  },
  {
   "cell_type": "code",
   "execution_count": 6,
   "id": "16ed0076",
   "metadata": {},
   "outputs": [
    {
     "data": {
      "text/plain": [
       "9"
      ]
     },
     "execution_count": 6,
     "metadata": {},
     "output_type": "execute_result"
    }
   ],
   "source": [
    "#Demetin sondaki elemanını şu şekilde bulabiliriz:\n",
    "demet[-1]"
   ]
  },
  {
   "cell_type": "code",
   "execution_count": 7,
   "id": "20fc31ef",
   "metadata": {},
   "outputs": [
    {
     "data": {
      "text/plain": [
       "(9, 8, 7, 6, 5, 4, 3, 2, 1)"
      ]
     },
     "execution_count": 7,
     "metadata": {},
     "output_type": "execute_result"
    }
   ],
   "source": [
    "#Demetin elemanlarını tersten yazdırma:\n",
    "demet=(1,2,3,4,5,6,7,8,9)\n",
    "demet[::-1]"
   ]
  },
  {
   "cell_type": "code",
   "execution_count": 8,
   "id": "80b41f05",
   "metadata": {},
   "outputs": [
    {
     "data": {
      "text/plain": [
       "(2, 4, 6)"
      ]
     },
     "execution_count": 8,
     "metadata": {},
     "output_type": "execute_result"
    }
   ],
   "source": [
    "#Demetleri parçalayabiliriz.\n",
    "#1.elemandan 7.elemana kadar 2 atlayarak yazdır:\n",
    "demet=(1,2,3,4,5,6,7,8,9)\n",
    "demet[1:7:2]"
   ]
  },
  {
   "cell_type": "markdown",
   "id": "4499f75b",
   "metadata": {},
   "source": [
    "**Demetlerin Temel Metodları**"
   ]
  },
  {
   "cell_type": "markdown",
   "id": "3fb0948f",
   "metadata": {},
   "source": [
    "index metoduyla içine verdiğimiz elemanın hangi indekste olduğunu bulabiliriz."
   ]
  },
  {
   "cell_type": "code",
   "execution_count": 9,
   "id": "dd7a0e5f",
   "metadata": {},
   "outputs": [
    {
     "data": {
      "text/plain": [
       "4"
      ]
     },
     "execution_count": 9,
     "metadata": {},
     "output_type": "execute_result"
    }
   ],
   "source": [
    "demet=(1,2,3,\"Python\",\"Programlama\",\"Dili\")\n",
    "#\"Programlama\" elemanının hangi indekste olduğunu bulalım:\n",
    "demet.index(\"Programlama\")"
   ]
  },
  {
   "cell_type": "markdown",
   "id": "ae79df38",
   "metadata": {},
   "source": [
    "Aradığımız elemanın 4. indekste olduğunu görmüş olduk."
   ]
  },
  {
   "cell_type": "markdown",
   "id": "658bbd6a",
   "metadata": {},
   "source": [
    "**count** fonksiyonu ile bir elemanın demette kaç defa geçtiğini bulabiliriz:"
   ]
  },
  {
   "cell_type": "code",
   "execution_count": 10,
   "id": "508fa69c",
   "metadata": {},
   "outputs": [
    {
     "data": {
      "text/plain": [
       "3"
      ]
     },
     "execution_count": 10,
     "metadata": {},
     "output_type": "execute_result"
    }
   ],
   "source": [
    "demet_4=(1,2,2,2,3,4,5,6)\n",
    "demet_4.count(2)"
   ]
  },
  {
   "cell_type": "code",
   "execution_count": 11,
   "id": "1ed1e397",
   "metadata": {},
   "outputs": [
    {
     "data": {
      "text/plain": [
       "0"
      ]
     },
     "execution_count": 11,
     "metadata": {},
     "output_type": "execute_result"
    }
   ],
   "source": [
    "demet_4.count(10)"
   ]
  },
  {
   "cell_type": "markdown",
   "id": "64d1fe37",
   "metadata": {},
   "source": [
    "Çünkü demetin içerisinde 10 elemanından hiç yoktu."
   ]
  },
  {
   "cell_type": "code",
   "execution_count": 13,
   "id": "bfa77966",
   "metadata": {},
   "outputs": [
    {
     "ename": "ValueError",
     "evalue": "tuple.index(x): x not in tuple",
     "output_type": "error",
     "traceback": [
      "\u001b[1;31m---------------------------------------------------------------------------\u001b[0m",
      "\u001b[1;31mValueError\u001b[0m                                Traceback (most recent call last)",
      "Input \u001b[1;32mIn [13]\u001b[0m, in \u001b[0;36m<cell line: 2>\u001b[1;34m()\u001b[0m\n\u001b[0;32m      1\u001b[0m demet_4\u001b[38;5;241m=\u001b[39m(\u001b[38;5;241m1\u001b[39m,\u001b[38;5;241m2\u001b[39m,\u001b[38;5;241m2\u001b[39m,\u001b[38;5;241m2\u001b[39m,\u001b[38;5;241m3\u001b[39m,\u001b[38;5;241m4\u001b[39m,\u001b[38;5;241m5\u001b[39m,\u001b[38;5;241m6\u001b[39m)\n\u001b[1;32m----> 2\u001b[0m \u001b[43mdemet_4\u001b[49m\u001b[38;5;241;43m.\u001b[39;49m\u001b[43mindex\u001b[49m\u001b[43m(\u001b[49m\u001b[38;5;241;43m8\u001b[39;49m\u001b[43m)\u001b[49m\n",
      "\u001b[1;31mValueError\u001b[0m: tuple.index(x): x not in tuple"
     ]
    }
   ],
   "source": [
    "demet_4=(1,2,2,2,3,4,5,6)\n",
    "demet_4.index(8)"
   ]
  },
  {
   "cell_type": "markdown",
   "id": "034d7fb9",
   "metadata": {},
   "source": [
    "Hata verdi çünkü demetin içerisinde 8 elemanı yoktu."
   ]
  },
  {
   "cell_type": "markdown",
   "id": "029fa6da",
   "metadata": {},
   "source": [
    "**Demetlerin Değiştirilmeme Özelliği**"
   ]
  },
  {
   "cell_type": "code",
   "execution_count": 14,
   "id": "3c45954f",
   "metadata": {},
   "outputs": [
    {
     "ename": "TypeError",
     "evalue": "'tuple' object does not support item assignment",
     "output_type": "error",
     "traceback": [
      "\u001b[1;31m---------------------------------------------------------------------------\u001b[0m",
      "\u001b[1;31mTypeError\u001b[0m                                 Traceback (most recent call last)",
      "Input \u001b[1;32mIn [14]\u001b[0m, in \u001b[0;36m<cell line: 2>\u001b[1;34m()\u001b[0m\n\u001b[0;32m      1\u001b[0m demet_4\u001b[38;5;241m=\u001b[39m(\u001b[38;5;241m1\u001b[39m,\u001b[38;5;241m2\u001b[39m,\u001b[38;5;241m2\u001b[39m,\u001b[38;5;241m2\u001b[39m,\u001b[38;5;241m3\u001b[39m,\u001b[38;5;241m4\u001b[39m,\u001b[38;5;241m5\u001b[39m,\u001b[38;5;241m6\u001b[39m)\n\u001b[1;32m----> 2\u001b[0m demet_4[\u001b[38;5;241m4\u001b[39m]\u001b[38;5;241m=\u001b[39m\u001b[38;5;241m15\u001b[39m\n",
      "\u001b[1;31mTypeError\u001b[0m: 'tuple' object does not support item assignment"
     ]
    }
   ],
   "source": [
    "demet_4=(1,2,2,2,3,4,5,6)\n",
    "demet_4[4]=15"
   ]
  },
  {
   "cell_type": "code",
   "execution_count": 15,
   "id": "be7d28cc",
   "metadata": {},
   "outputs": [
    {
     "name": "stdout",
     "output_type": "stream",
     "text": [
      "[23, 99, 88, 71, 47]\n"
     ]
    }
   ],
   "source": [
    "#Listelerin değiştirilebilir olduğunu tekrar görelim:\n",
    "liste=[23,56,88,71,47]\n",
    "liste[1]=99\n",
    "print(liste)"
   ]
  },
  {
   "cell_type": "code",
   "execution_count": 16,
   "id": "e4cea286",
   "metadata": {},
   "outputs": [
    {
     "ename": "TypeError",
     "evalue": "'tuple' object does not support item assignment",
     "output_type": "error",
     "traceback": [
      "\u001b[1;31m---------------------------------------------------------------------------\u001b[0m",
      "\u001b[1;31mTypeError\u001b[0m                                 Traceback (most recent call last)",
      "Input \u001b[1;32mIn [16]\u001b[0m, in \u001b[0;36m<cell line: 2>\u001b[1;34m()\u001b[0m\n\u001b[0;32m      1\u001b[0m demet_5\u001b[38;5;241m=\u001b[39m(\u001b[38;5;124m\"\u001b[39m\u001b[38;5;124mElma\u001b[39m\u001b[38;5;124m\"\u001b[39m,\u001b[38;5;124m\"\u001b[39m\u001b[38;5;124mArmut\u001b[39m\u001b[38;5;124m\"\u001b[39m,\u001b[38;5;124m\"\u001b[39m\u001b[38;5;124mMuz\u001b[39m\u001b[38;5;124m\"\u001b[39m,\u001b[38;5;124m\"\u001b[39m\u001b[38;5;124mKiraz\u001b[39m\u001b[38;5;124m\"\u001b[39m)\n\u001b[1;32m----> 2\u001b[0m demet_5[\u001b[38;5;241m1\u001b[39m]\u001b[38;5;241m=\u001b[39m\u001b[38;5;124m\"\u001b[39m\u001b[38;5;124mAyva\u001b[39m\u001b[38;5;124m\"\u001b[39m\n\u001b[0;32m      3\u001b[0m \u001b[38;5;28mprint\u001b[39m(demet_5)\n",
      "\u001b[1;31mTypeError\u001b[0m: 'tuple' object does not support item assignment"
     ]
    }
   ],
   "source": [
    "demet_5=(\"Elma\",\"Armut\",\"Muz\",\"Kiraz\")\n",
    "demet_5[1]=\"Ayva\"\n",
    "print(demet_5)"
   ]
  },
  {
   "cell_type": "markdown",
   "id": "2ac32fee",
   "metadata": {},
   "source": [
    "Görüldüğü gibi demetlerde tıpkı stringlerde olduğu gibi direkt olarak karakter değişikliği yapılamıyor.\n",
    "\n",
    "NOT Aslında python programcıları demetlerden ziyade listeleri daha çok kullanırlar.Ancak programınızda değiştirilmesini istemediğiniz bilgiler varsa (Android Uygulama Sabitleri gibi) bunları demet içerisinde depolayabilirsiniz. Aynı zamanda demetler Read Only(Sadece okuma) bir veri tipi olduğu için listelere göre biraz daha hızlı çalışırlar."
   ]
  },
  {
   "cell_type": "code",
   "execution_count": null,
   "id": "9cfaa03a",
   "metadata": {},
   "outputs": [],
   "source": []
  }
 ],
 "metadata": {
  "kernelspec": {
   "display_name": "Python 3 (ipykernel)",
   "language": "python",
   "name": "python3"
  },
  "language_info": {
   "codemirror_mode": {
    "name": "ipython",
    "version": 3
   },
   "file_extension": ".py",
   "mimetype": "text/x-python",
   "name": "python",
   "nbconvert_exporter": "python",
   "pygments_lexer": "ipython3",
   "version": "3.9.12"
  }
 },
 "nbformat": 4,
 "nbformat_minor": 5
}
