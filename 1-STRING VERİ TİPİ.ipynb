{
 "cells": [
  {
   "cell_type": "markdown",
   "id": "e7633112",
   "metadata": {},
   "source": [
    "**ÖRNEKLER**"
   ]
  },
  {
   "cell_type": "markdown",
   "id": "6b208d7e",
   "metadata": {},
   "source": [
    "Veri Tipi:Bir değerin türünü veya niteliğini belirten bir kavramdır. Python da farklı türlerde verileri işlemek ve depolamak için çeşitli veri tipleri sunar. Bu veri tipleri, belirli türdeki değerlerin nasıl işleneceğini ve davranacağını belirler."
   ]
  },
  {
   "cell_type": "markdown",
   "id": "75bbf37c",
   "metadata": {},
   "source": [
    "Değişkenler:Bir veri tipinden değer tutan birimlerdir."
   ]
  },
  {
   "cell_type": "markdown",
   "id": "e16e18af",
   "metadata": {},
   "source": [
    "Değişkenlere isim verirken dikkat edilmesi gereken noktalar:\n",
    "\n",
    "1.Değişken isimleri bir sayı ile başlayamaz.\n",
    "\n",
    "2.Değişken ismi kelimelerden oluşuyorsa aralarında boşluk olamaz.\n",
    "\n",
    "3.Pythonda tanımlı anahtar kelimeler değişken ismi olarak kullanılamaz.(while, not vs. ) :'\",<>/?|()!@#$%^&*~-+ ve eğik çizgi sembolleri değişken ismi içinde kullanılamaz. (Sadece _ sembolü kullanılabilir.)"
   ]
  },
  {
   "cell_type": "markdown",
   "id": "4b125c4b",
   "metadata": {},
   "source": [
    "Örneğin:"
   ]
  },
  {
   "cell_type": "code",
   "execution_count": 1,
   "id": "1f4fcbb3",
   "metadata": {},
   "outputs": [
    {
     "name": "stdout",
     "output_type": "stream",
     "text": [
      "10\n",
      "10\n",
      "10.0\n"
     ]
    }
   ],
   "source": [
    "i=10\n",
    "print(i)\n",
    "print(int(i))\n",
    "print(float(i))"
   ]
  },
  {
   "cell_type": "markdown",
   "id": "dc52b4fc",
   "metadata": {},
   "source": [
    "Not:Python'da iki değişkenin değerini birbiriyle değiştirmek için pratik bir yöntem bulunmaktadır."
   ]
  },
  {
   "cell_type": "code",
   "execution_count": 2,
   "id": "fd8602ec",
   "metadata": {},
   "outputs": [
    {
     "name": "stdout",
     "output_type": "stream",
     "text": [
      "4\n",
      "8\n"
     ]
    }
   ],
   "source": [
    "x=8\n",
    "y=4\n",
    "x,y=y,x\n",
    "print(x)\n",
    "print(y)\n"
   ]
  },
  {
   "cell_type": "markdown",
   "id": "6b1d7665",
   "metadata": {},
   "source": [
    "Python'da bir değişkenin değerini artırma işlemleri :"
   ]
  },
  {
   "cell_type": "code",
   "execution_count": 3,
   "id": "1bb57f93",
   "metadata": {},
   "outputs": [
    {
     "name": "stdout",
     "output_type": "stream",
     "text": [
      "3\n"
     ]
    }
   ],
   "source": [
    "f=2\n",
    "f=f+1\n",
    "print(f)"
   ]
  },
  {
   "cell_type": "markdown",
   "id": "0883747c",
   "metadata": {},
   "source": [
    "f=f+1 işlemini pratik olarak f+=1 şeklinde yazabiliriz."
   ]
  },
  {
   "cell_type": "markdown",
   "id": "352b4083",
   "metadata": {},
   "source": [
    "ÖRNEK:"
   ]
  },
  {
   "cell_type": "code",
   "execution_count": 4,
   "id": "1300f78e",
   "metadata": {},
   "outputs": [
    {
     "name": "stdout",
     "output_type": "stream",
     "text": [
      "Hello World\n",
      "Hello World\n",
      "Hello World\n",
      "Hello World\n",
      "Hello World\n",
      "Hello World\n",
      "hello world\n",
      "HELLO WORLD\n",
      "3\n",
      "10\n"
     ]
    }
   ],
   "source": [
    "message='Hello World'\n",
    "print(message)\n",
    "print(message[:11])\n",
    "print(message[0:])\n",
    "print(message[0:11])\n",
    "print(message[ : ])\n",
    "print(message[:])\n",
    "print(message.lower())\n",
    "print(message.upper())\n",
    "print(message.count('l'))\n",
    "print(message.find('d'))"
   ]
  },
  {
   "cell_type": "markdown",
   "id": "85d3ad83",
   "metadata": {},
   "source": [
    "ÖRNEK:"
   ]
  },
  {
   "cell_type": "code",
   "execution_count": 5,
   "id": "cbd3b652",
   "metadata": {},
   "outputs": [
    {
     "name": "stdout",
     "output_type": "stream",
     "text": [
      "Hi Universe\n"
     ]
    }
   ],
   "source": [
    "message='Hello World'\n",
    "new_message= message.replace('Hello', 'Hi').replace(\"World\",\"Universe\")\n",
    "print(new_message)"
   ]
  },
  {
   "cell_type": "markdown",
   "id": "2865f472",
   "metadata": {},
   "source": [
    "**KARAKTER DİZİLERİ (STRING)**"
   ]
  },
  {
   "cell_type": "markdown",
   "id": "422f35a3",
   "metadata": {},
   "source": [
    "String Veri Tipi:Python'da \"string\" veri tipi, metin veya karakter dizilerini temsil eden bir veri tipidir."
   ]
  },
  {
   "cell_type": "markdown",
   "id": "b2ce4434",
   "metadata": {},
   "source": [
    "Stringler tek,çift ya da 3 tırnak ile oluşturulabilir ancak hangisi ile başlanırsa onunla bitirilmelidir."
   ]
  },
  {
   "cell_type": "markdown",
   "id": "673620d1",
   "metadata": {},
   "source": [
    "HATALI KOD ÖRNEĞİ :"
   ]
  },
  {
   "cell_type": "code",
   "execution_count": 6,
   "id": "09a071cd",
   "metadata": {},
   "outputs": [
    {
     "ename": "SyntaxError",
     "evalue": "invalid syntax (2908006981.py, line 1)",
     "output_type": "error",
     "traceback": [
      "\u001b[1;36m  Input \u001b[1;32mIn [6]\u001b[1;36m\u001b[0m\n\u001b[1;33m    print('Kader'in dersi var.')\u001b[0m\n\u001b[1;37m                          ^\u001b[0m\n\u001b[1;31mSyntaxError\u001b[0m\u001b[1;31m:\u001b[0m invalid syntax\n"
     ]
    }
   ],
   "source": [
    "print('Kader'in dersi var.')"
   ]
  },
  {
   "cell_type": "code",
   "execution_count": 7,
   "id": "cf4ff2f9",
   "metadata": {},
   "outputs": [
    {
     "name": "stdout",
     "output_type": "stream",
     "text": [
      "Kader'in dersi var.\n"
     ]
    }
   ],
   "source": [
    "print('Kader\\'in dersi var.' )"
   ]
  },
  {
   "cell_type": "markdown",
   "id": "f9d07de3",
   "metadata": {},
   "source": [
    "**STRING INDEKSLEME VE PARÇALAMA**"
   ]
  },
  {
   "cell_type": "markdown",
   "id": "2861ad0a",
   "metadata": {},
   "source": [
    "Not:Python'da indeksler sıfırdan başlar."
   ]
  },
  {
   "cell_type": "markdown",
   "id": "ab9fb671",
   "metadata": {},
   "source": [
    "Örneğin; 0.elemana ulaşalım.Bunun için [] operatörünü kullanacağız."
   ]
  },
  {
   "cell_type": "code",
   "execution_count": 8,
   "id": "2c2baa53",
   "metadata": {},
   "outputs": [
    {
     "name": "stdout",
     "output_type": "stream",
     "text": [
      "K\n"
     ]
    }
   ],
   "source": [
    "a='Kader'\n",
    "print(a[0])"
   ]
  },
  {
   "cell_type": "markdown",
   "id": "67df5cd6",
   "metadata": {},
   "source": [
    "Sıfırıncı indekste hangi karakterin olduğunu öğrenmek için kullandık."
   ]
  },
  {
   "cell_type": "markdown",
   "id": "d03c1f5b",
   "metadata": {},
   "source": [
    "Not:Python'da stringler baştan olduğu gibi sondan da indekslenebilirler. Sondan başlayarak -1,-2...diye indekslenirler."
   ]
  },
  {
   "cell_type": "markdown",
   "id": "07a587df",
   "metadata": {},
   "source": [
    "Örneğin;"
   ]
  },
  {
   "cell_type": "code",
   "execution_count": 9,
   "id": "dfe760b0",
   "metadata": {},
   "outputs": [
    {
     "name": "stdout",
     "output_type": "stream",
     "text": [
      "h\n"
     ]
    }
   ],
   "source": [
    "b='Merhaba'\n",
    "print(b[-4])"
   ]
  },
  {
   "cell_type": "markdown",
   "id": "6b71cf23",
   "metadata": {},
   "source": [
    "Not:Uzun bir stringin sadece belli bir kısmını elde etmek için string parçalama işlemini kullanırız."
   ]
  },
  {
   "cell_type": "markdown",
   "id": "b4b71a6d",
   "metadata": {},
   "source": [
    "FORMÜL: [başlama indeksi: bitiş indeksi: atlama değeri]"
   ]
  },
  {
   "cell_type": "markdown",
   "id": "92dcf07b",
   "metadata": {},
   "source": [
    "Örneğin;"
   ]
  },
  {
   "cell_type": "code",
   "execution_count": 10,
   "id": "b382e837",
   "metadata": {},
   "outputs": [
    {
     "name": "stdout",
     "output_type": "stream",
     "text": [
      "lo Wo\n"
     ]
    }
   ],
   "source": [
    "x='Hello World'\n",
    "print(x[3:8])"
   ]
  },
  {
   "cell_type": "markdown",
   "id": "90b91265",
   "metadata": {},
   "source": [
    "3.indeksten başla, 8.indekse kadar git ama 8.indeksi dahil etme anlamına gelir."
   ]
  },
  {
   "cell_type": "markdown",
   "id": "5bcceac5",
   "metadata": {},
   "source": [
    "Örnek:"
   ]
  },
  {
   "cell_type": "code",
   "execution_count": 11,
   "id": "aa3477d9",
   "metadata": {},
   "outputs": [
    {
     "name": "stdout",
     "output_type": "stream",
     "text": [
      "hnporma\n"
     ]
    }
   ],
   "source": [
    "d='Python programlama'\n",
    "print(d[3:16:2])"
   ]
  },
  {
   "cell_type": "markdown",
   "id": "c7033c63",
   "metadata": {},
   "source": [
    "Örnek:"
   ]
  },
  {
   "cell_type": "code",
   "execution_count": 12,
   "id": "15643ae5",
   "metadata": {},
   "outputs": [
    {
     "name": "stdout",
     "output_type": "stream",
     "text": [
      "Python programl\n"
     ]
    }
   ],
   "source": [
    "print(d[:-3:])"
   ]
  },
  {
   "cell_type": "markdown",
   "id": "73a3b0c9",
   "metadata": {},
   "source": [
    "Baştan başlayıp sondan 3.indekse kadar stringi parçala demektir."
   ]
  },
  {
   "cell_type": "markdown",
   "id": "7292568c",
   "metadata": {},
   "source": [
    "Örnek:"
   ]
  },
  {
   "cell_type": "code",
   "execution_count": 13,
   "id": "65ecf58a",
   "metadata": {},
   "outputs": [
    {
     "name": "stdout",
     "output_type": "stream",
     "text": [
      "program\n"
     ]
    }
   ],
   "source": [
    "print(d[7:-4])"
   ]
  },
  {
   "cell_type": "markdown",
   "id": "f35987dc",
   "metadata": {},
   "source": [
    "7.indeksten başlayıp sondan 4.indekse kadar stringi parçala demektir."
   ]
  },
  {
   "cell_type": "markdown",
   "id": "2f1fdbf0",
   "metadata": {},
   "source": [
    "Örnek:"
   ]
  },
  {
   "cell_type": "code",
   "execution_count": 14,
   "id": "48c649b6",
   "metadata": {},
   "outputs": [
    {
     "name": "stdout",
     "output_type": "stream",
     "text": [
      "amalmargorp nohtyP\n"
     ]
    }
   ],
   "source": [
    "print(d[::-1])"
   ]
  },
  {
   "cell_type": "markdown",
   "id": "7323a766",
   "metadata": {},
   "source": [
    "Tersten giderek stringi parçala anlamına gelir."
   ]
  },
  {
   "cell_type": "code",
   "execution_count": 15,
   "id": "27e91f2f",
   "metadata": {},
   "outputs": [
    {
     "name": "stdout",
     "output_type": "stream",
     "text": [
      "aamropnhy\n"
     ]
    }
   ],
   "source": [
    "print(d[::-2])"
   ]
  },
  {
   "cell_type": "markdown",
   "id": "844d63d5",
   "metadata": {},
   "source": [
    "Tersten ikişer ikişer atlayarak stringi parçala anlamına gelir."
   ]
  },
  {
   "cell_type": "markdown",
   "id": "2095b205",
   "metadata": {},
   "source": [
    "**STRING ÖZELLİKLERİ**"
   ]
  },
  {
   "cell_type": "markdown",
   "id": "f909814e",
   "metadata": {},
   "source": [
    "Örnek:"
   ]
  },
  {
   "cell_type": "code",
   "execution_count": 17,
   "id": "bc24318f",
   "metadata": {},
   "outputs": [],
   "source": [
    "greeting='Hello'\n",
    "name='Michael'"
   ]
  },
  {
   "cell_type": "markdown",
   "id": "5e691212",
   "metadata": {},
   "source": [
    "1.YOL"
   ]
  },
  {
   "cell_type": "code",
   "execution_count": 18,
   "id": "77e24635",
   "metadata": {},
   "outputs": [
    {
     "name": "stdout",
     "output_type": "stream",
     "text": [
      "Hello Michael.Welcome!\n"
     ]
    }
   ],
   "source": [
    "note=greeting+' '+name+'.Welcome!'\n",
    "print(note)"
   ]
  },
  {
   "cell_type": "markdown",
   "id": "ab7da6b1",
   "metadata": {},
   "source": [
    "2.YOL"
   ]
  },
  {
   "cell_type": "code",
   "execution_count": 19,
   "id": "c75a9b01",
   "metadata": {},
   "outputs": [
    {
     "name": "stdout",
     "output_type": "stream",
     "text": [
      "Hello Michael.Welcome\n"
     ]
    }
   ],
   "source": [
    "note='{} {}.Welcome'.format(greeting,name)\n",
    "print(note)"
   ]
  },
  {
   "cell_type": "markdown",
   "id": "935b9e90",
   "metadata": {},
   "source": [
    "3.YOL"
   ]
  },
  {
   "cell_type": "code",
   "execution_count": 20,
   "id": "756ca124",
   "metadata": {},
   "outputs": [
    {
     "name": "stdout",
     "output_type": "stream",
     "text": [
      "Hello,Michael.Welcome!\n"
     ]
    }
   ],
   "source": [
    "note=f'{greeting},{name}.Welcome!'\n",
    "print(note)"
   ]
  },
  {
   "cell_type": "markdown",
   "id": "42100840",
   "metadata": {},
   "source": [
    "****Bir string'in uzunluğunu bulma :****"
   ]
  },
  {
   "cell_type": "code",
   "execution_count": 21,
   "id": "87848e61",
   "metadata": {},
   "outputs": [
    {
     "data": {
      "text/plain": [
       "7"
      ]
     },
     "execution_count": 21,
     "metadata": {},
     "output_type": "execute_result"
    }
   ],
   "source": [
    "string= 'Merhaba'\n",
    "len(string)"
   ]
  },
  {
   "cell_type": "code",
   "execution_count": 23,
   "id": "ca5e3534",
   "metadata": {},
   "outputs": [
    {
     "ename": "TypeError",
     "evalue": "'str' object does not support item assignment",
     "output_type": "error",
     "traceback": [
      "\u001b[1;31m---------------------------------------------------------------------------\u001b[0m",
      "\u001b[1;31mTypeError\u001b[0m                                 Traceback (most recent call last)",
      "Input \u001b[1;32mIn [23]\u001b[0m, in \u001b[0;36m<cell line: 1>\u001b[1;34m()\u001b[0m\n\u001b[1;32m----> 1\u001b[0m string[\u001b[38;5;241m3\u001b[39m]\u001b[38;5;241m=\u001b[39m\u001b[38;5;124m'\u001b[39m\u001b[38;5;124mH\u001b[39m\u001b[38;5;124m'\u001b[39m\n\u001b[0;32m      2\u001b[0m \u001b[38;5;28mprint\u001b[39m(string)\n",
      "\u001b[1;31mTypeError\u001b[0m: 'str' object does not support item assignment"
     ]
    }
   ],
   "source": [
    "string[3]='H'\n",
    "print(string)"
   ]
  },
  {
   "cell_type": "markdown",
   "id": "ee0159b6",
   "metadata": {},
   "source": [
    "Burada da görüldüğü gibi Python'da direkt olarak bir değişkenin karakterini değiştiremiyoruz.\n",
    "\n",
    "Stringler böyle bir işlemi desteklemiyor."
   ]
  },
  {
   "cell_type": "markdown",
   "id": "a6c7598f",
   "metadata": {},
   "source": [
    "Not: Python'da stringler tıpkı sayılar gibi birbirleriyle toplanabilir."
   ]
  },
  {
   "cell_type": "code",
   "execution_count": 24,
   "id": "b85640fe",
   "metadata": {},
   "outputs": [
    {
     "name": "stdout",
     "output_type": "stream",
     "text": [
      "Hello World\n"
     ]
    }
   ],
   "source": [
    "a='Hello'\n",
    "b='World'\n",
    "c=a+ ' ' +b\n",
    "print(c)"
   ]
  },
  {
   "cell_type": "code",
   "execution_count": 25,
   "id": "313b09c8",
   "metadata": {},
   "outputs": [
    {
     "name": "stdout",
     "output_type": "stream",
     "text": [
      "Python   Python   Python   \n"
     ]
    }
   ],
   "source": [
    "print('Python   '*3)"
   ]
  },
  {
   "cell_type": "markdown",
   "id": "863a1216",
   "metadata": {},
   "source": [
    "Örnek:"
   ]
  },
  {
   "cell_type": "code",
   "execution_count": 26,
   "id": "21ea1efe",
   "metadata": {},
   "outputs": [
    {
     "name": "stdout",
     "output_type": "stream",
     "text": [
      "Python Programlama\n"
     ]
    }
   ],
   "source": [
    "a='Python '\n",
    "a=a+ 'Programlama'\n",
    "print(a)"
   ]
  },
  {
   "cell_type": "code",
   "execution_count": null,
   "id": "f28c5969",
   "metadata": {},
   "outputs": [],
   "source": []
  }
 ],
 "metadata": {
  "kernelspec": {
   "display_name": "Python 3 (ipykernel)",
   "language": "python",
   "name": "python3"
  },
  "language_info": {
   "codemirror_mode": {
    "name": "ipython",
    "version": 3
   },
   "file_extension": ".py",
   "mimetype": "text/x-python",
   "name": "python",
   "nbconvert_exporter": "python",
   "pygments_lexer": "ipython3",
   "version": "3.9.12"
  }
 },
 "nbformat": 4,
 "nbformat_minor": 5
}
