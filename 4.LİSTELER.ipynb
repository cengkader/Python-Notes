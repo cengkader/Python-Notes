{
 "cells": [
  {
   "cell_type": "markdown",
   "id": "5490c62c",
   "metadata": {},
   "source": [
    "**LİSTELER**"
   ]
  },
  {
   "cell_type": "markdown",
   "id": "b224dbb1",
   "metadata": {},
   "source": [
    "Tıpkı stringler gibi indekslenirler, parçalanırlar ve üzerinde değişik işlemler yapabildiğimiz metodlar bulunur.Ancak stringlerden farkı; stringler değiştirilemez bir veri tipi iken listeler değiştirilebilir bir veri tipidir."
   ]
  },
  {
   "cell_type": "markdown",
   "id": "b3104345",
   "metadata": {},
   "source": [
    "Bir listede her veri tipinden elemanı saklayabiliriz."
   ]
  },
  {
   "cell_type": "markdown",
   "id": "dd16275d",
   "metadata": {},
   "source": [
    "**Liste Oluşturma**"
   ]
  },
  {
   "cell_type": "markdown",
   "id": "4842b80e",
   "metadata": {},
   "source": [
    "Listeler, bir [] içerisine veriler veya değerler konularak oluşturulabilir."
   ]
  },
  {
   "cell_type": "code",
   "execution_count": 1,
   "id": "756a2afc",
   "metadata": {},
   "outputs": [
    {
     "name": "stdout",
     "output_type": "stream",
     "text": [
      "[3, 4, 5, 'Elma', 3.14, 5.27]\n"
     ]
    }
   ],
   "source": [
    "#liste değişkeni. Değişik veri tiplerinden değerler saklanabilir.\n",
    "liste=[3,4,5,\"Elma\",3.14,5.27]\n",
    "print(liste)"
   ]
  },
  {
   "cell_type": "code",
   "execution_count": 2,
   "id": "bc07d504",
   "metadata": {},
   "outputs": [
    {
     "data": {
      "text/plain": [
       "list"
      ]
     },
     "execution_count": 2,
     "metadata": {},
     "output_type": "execute_result"
    }
   ],
   "source": [
    "type(liste)"
   ]
  },
  {
   "cell_type": "code",
   "execution_count": 3,
   "id": "d523f603",
   "metadata": {},
   "outputs": [
    {
     "name": "stdout",
     "output_type": "stream",
     "text": [
      "[]\n"
     ]
    }
   ],
   "source": [
    "#Boş liste\n",
    "liste_2=[]\n",
    "print(liste_2)"
   ]
  },
  {
   "cell_type": "code",
   "execution_count": 4,
   "id": "ac2a1ce6",
   "metadata": {},
   "outputs": [
    {
     "name": "stdout",
     "output_type": "stream",
     "text": [
      "[]\n"
     ]
    }
   ],
   "source": [
    "#Boş liste oluşturmak için list() fonksiyonunu kullanabiliriz.\n",
    "liste=list()\n",
    "print(liste)"
   ]
  },
  {
   "cell_type": "code",
   "execution_count": 5,
   "id": "dfa4d11c",
   "metadata": {},
   "outputs": [
    {
     "data": {
      "text/plain": [
       "10"
      ]
     },
     "execution_count": 5,
     "metadata": {},
     "output_type": "execute_result"
    }
   ],
   "source": [
    "#len fonksiyonu stringlerde olduğu gibi listeler üzerinde de kullanılabilir.\n",
    "liste_3=[3,4,5,6,0,0,8,0,0,0,]\n",
    "len(liste_3)\n"
   ]
  },
  {
   "cell_type": "code",
   "execution_count": 6,
   "id": "3d662a34",
   "metadata": {},
   "outputs": [
    {
     "name": "stdout",
     "output_type": "stream",
     "text": [
      "['M', 'e', 'r', 'h', 'a', 'b', 'a']\n"
     ]
    }
   ],
   "source": [
    "#Bir string list() fonksiyonu yardımıyla listeye dönüştürülebilir.\n",
    "s=\"Merhaba\"\n",
    "liste_4=list(s)\n",
    "print(liste_4)"
   ]
  },
  {
   "cell_type": "code",
   "execution_count": 7,
   "id": "028ffcf0",
   "metadata": {},
   "outputs": [
    {
     "data": {
      "text/plain": [
       "7"
      ]
     },
     "execution_count": 7,
     "metadata": {},
     "output_type": "execute_result"
    }
   ],
   "source": [
    "len(liste_4)"
   ]
  },
  {
   "cell_type": "markdown",
   "id": "1c3a7e34",
   "metadata": {},
   "source": [
    "**Listeleri İndeksleme ve Parçalama**"
   ]
  },
  {
   "cell_type": "code",
   "execution_count": 8,
   "id": "6e608235",
   "metadata": {},
   "outputs": [
    {
     "data": {
      "text/plain": [
       "1"
      ]
     },
     "execution_count": 8,
     "metadata": {},
     "output_type": "execute_result"
    }
   ],
   "source": [
    "#Listeleri İndeksleme ve Parçalama stringlerle birebir aynıdır.\n",
    "\n",
    "liste=[1,2,3,4,5,6,7,8]\n",
    "\n",
    "#Listelerde indeksleme örnekleri\n",
    "\n",
    "#0.Eleman\n",
    "liste[0]\n"
   ]
  },
  {
   "cell_type": "code",
   "execution_count": 9,
   "id": "ef3abea1",
   "metadata": {},
   "outputs": [
    {
     "data": {
      "text/plain": [
       "7"
      ]
     },
     "execution_count": 9,
     "metadata": {},
     "output_type": "execute_result"
    }
   ],
   "source": [
    "#6.Eleman\n",
    "liste[6]"
   ]
  },
  {
   "cell_type": "code",
   "execution_count": 10,
   "id": "f253bb9e",
   "metadata": {},
   "outputs": [
    {
     "data": {
      "text/plain": [
       "8"
      ]
     },
     "execution_count": 10,
     "metadata": {},
     "output_type": "execute_result"
    }
   ],
   "source": [
    "#Sonuncu Eleman\n",
    "liste[len(liste)-1]"
   ]
  },
  {
   "cell_type": "code",
   "execution_count": 11,
   "id": "cdf4814d",
   "metadata": {},
   "outputs": [
    {
     "data": {
      "text/plain": [
       "8"
      ]
     },
     "execution_count": 11,
     "metadata": {},
     "output_type": "execute_result"
    }
   ],
   "source": [
    "#Sonuncu eleman\n",
    "liste[-1]"
   ]
  },
  {
   "cell_type": "markdown",
   "id": "44c1c1e5",
   "metadata": {},
   "source": [
    "**Listelerde Parçalama Örnekleri**"
   ]
  },
  {
   "cell_type": "code",
   "execution_count": 12,
   "id": "82a7f48a",
   "metadata": {},
   "outputs": [
    {
     "data": {
      "text/plain": [
       "[1, 2, 3, 4]"
      ]
     },
     "execution_count": 12,
     "metadata": {},
     "output_type": "execute_result"
    }
   ],
   "source": [
    "#Baştan 4.indekse kadar(4.indeks dahil değil)\n",
    "liste[:4]"
   ]
  },
  {
   "cell_type": "code",
   "execution_count": 13,
   "id": "14358114",
   "metadata": {},
   "outputs": [
    {
     "data": {
      "text/plain": [
       "[4, 5, 6, 7, 8]"
      ]
     },
     "execution_count": 13,
     "metadata": {},
     "output_type": "execute_result"
    }
   ],
   "source": [
    "#3.indeksten sonuncu indekse kadar(sonuncu indeks dahil)\n",
    "liste[3:]"
   ]
  },
  {
   "cell_type": "code",
   "execution_count": 14,
   "id": "035c4f1f",
   "metadata": {},
   "outputs": [
    {
     "data": {
      "text/plain": [
       "[1, 3, 5, 7]"
      ]
     },
     "execution_count": 14,
     "metadata": {},
     "output_type": "execute_result"
    }
   ],
   "source": [
    "liste[::2]"
   ]
  },
  {
   "cell_type": "code",
   "execution_count": 15,
   "id": "6952066a",
   "metadata": {},
   "outputs": [
    {
     "data": {
      "text/plain": [
       "[8, 7, 6, 5, 4, 3, 2, 1]"
      ]
     },
     "execution_count": 15,
     "metadata": {},
     "output_type": "execute_result"
    }
   ],
   "source": [
    "#Listeyi tersten indeksleme\n",
    "liste[::-1]"
   ]
  },
  {
   "cell_type": "markdown",
   "id": "d2c9c0f2",
   "metadata": {},
   "source": [
    "**Temel Liste Metodları ve İşlemleri**"
   ]
  },
  {
   "cell_type": "markdown",
   "id": "d0e119fd",
   "metadata": {},
   "source": [
    "**İŞLEMLER**"
   ]
  },
  {
   "cell_type": "code",
   "execution_count": 16,
   "id": "7aadd2ef",
   "metadata": {},
   "outputs": [
    {
     "name": "stdout",
     "output_type": "stream",
     "text": [
      "[1, 2, 3, 4, 5, 6, 7, 8, 9]\n"
     ]
    }
   ],
   "source": [
    "#Listelerde toplama işlemi stringlerdeki gibidir.\n",
    "\n",
    "liste1=[1,2,3]\n",
    "liste2=[4,5,6]\n",
    "liste3=[7,8,9]\n",
    "liste4=liste1+liste2+liste3\n",
    "\n",
    "print(liste4)"
   ]
  },
  {
   "cell_type": "code",
   "execution_count": 17,
   "id": "23781ed7",
   "metadata": {},
   "outputs": [
    {
     "name": "stdout",
     "output_type": "stream",
     "text": [
      "[11, 12, 13, 14, 15, 16]\n"
     ]
    }
   ],
   "source": [
    "#Bir listeye yeni bir eleman ekleme\n",
    "\n",
    "liste=[11,12,13,14,15]\n",
    "liste_new= liste+[16]\n",
    "print(liste_new)"
   ]
  },
  {
   "cell_type": "code",
   "execution_count": 18,
   "id": "efa5a4b0",
   "metadata": {},
   "outputs": [
    {
     "name": "stdout",
     "output_type": "stream",
     "text": [
      "[1, 2, 3, 1, 2, 3, 1, 2, 3]\n"
     ]
    }
   ],
   "source": [
    "#Bir listeyi stringlerde olduğu gibi bir tamsayı ile çarpabiliriz.\n",
    "\n",
    "liste=[1,2,3]\n",
    "liste=liste*3\n",
    "print(liste)"
   ]
  },
  {
   "cell_type": "code",
   "execution_count": 19,
   "id": "8ff0e08b",
   "metadata": {},
   "outputs": [
    {
     "name": "stdout",
     "output_type": "stream",
     "text": [
      "['N', 'e', 'r', 'h', 'a', 'b', 'a']\n"
     ]
    }
   ],
   "source": [
    "#Listeler direkt olarak değiştirilebilir.\n",
    "k=\"Merhaba\"\n",
    "liste=list(k)\n",
    "liste[0]=\"N\"\n",
    "print(liste)"
   ]
  },
  {
   "cell_type": "code",
   "execution_count": 21,
   "id": "48b4f6fb",
   "metadata": {},
   "outputs": [
    {
     "ename": "TypeError",
     "evalue": "'str' object does not support item assignment",
     "output_type": "error",
     "traceback": [
      "\u001b[1;31m---------------------------------------------------------------------------\u001b[0m",
      "\u001b[1;31mTypeError\u001b[0m                                 Traceback (most recent call last)",
      "Input \u001b[1;32mIn [21]\u001b[0m, in \u001b[0;36m<cell line: 3>\u001b[1;34m()\u001b[0m\n\u001b[0;32m      1\u001b[0m \u001b[38;5;66;03m#Stringte bu şekilde direkt olarak değiştirmek istediğimizde python hata verecektir.\u001b[39;00m\n\u001b[0;32m      2\u001b[0m a\u001b[38;5;241m=\u001b[39m\u001b[38;5;124m\"\u001b[39m\u001b[38;5;124mMerhaba\u001b[39m\u001b[38;5;124m\"\u001b[39m\n\u001b[1;32m----> 3\u001b[0m a[\u001b[38;5;241m0\u001b[39m]\u001b[38;5;241m=\u001b[39m\u001b[38;5;124m\"\u001b[39m\u001b[38;5;124mN\u001b[39m\u001b[38;5;124m\"\u001b[39m\n\u001b[0;32m      4\u001b[0m \u001b[38;5;28mprint\u001b[39m(a)\n",
      "\u001b[1;31mTypeError\u001b[0m: 'str' object does not support item assignment"
     ]
    }
   ],
   "source": [
    "#Stringte bu şekilde direkt olarak değiştirmek istediğimizde python hata verecektir.\n",
    "a=\"Merhaba\"\n",
    "a[0]=\"N\"\n",
    "print(a)"
   ]
  },
  {
   "cell_type": "code",
   "execution_count": 22,
   "id": "e6e2b7e8",
   "metadata": {},
   "outputs": [
    {
     "name": "stdout",
     "output_type": "stream",
     "text": [
      "[8, 7, 3, 4, 5, 6]\n"
     ]
    }
   ],
   "source": [
    "#Listenin ilk iki elemanını başka elemanlarla değiştirme örneği\n",
    "liste=[1,2,3,4,5,6,]\n",
    "liste[0:2]=[8,7]\n",
    "print(liste)"
   ]
  },
  {
   "cell_type": "markdown",
   "id": "cd84be72",
   "metadata": {},
   "source": [
    "**METODLAR**"
   ]
  },
  {
   "cell_type": "markdown",
   "id": "c6db0686",
   "metadata": {},
   "source": [
    "NOT: Herhangi bir listenin metodlarına erişmek için : liste. Tab"
   ]
  },
  {
   "cell_type": "markdown",
   "id": "31475850",
   "metadata": {},
   "source": [
    "Method,birçok veri tipinde uygulanabilen ve değişik işlemler gerçekleştiren fonksiyonlardır."
   ]
  },
  {
   "cell_type": "markdown",
   "id": "5081c5c0",
   "metadata": {},
   "source": [
    "**append metodu**"
   ]
  },
  {
   "cell_type": "markdown",
   "id": "c4cd58ab",
   "metadata": {},
   "source": [
    "Append metodu, verdiğimiz değeri listeye eklememizi sağlar."
   ]
  },
  {
   "cell_type": "markdown",
   "id": "a987064e",
   "metadata": {},
   "source": [
    "ÖRNEK"
   ]
  },
  {
   "cell_type": "code",
   "execution_count": 23,
   "id": "1dcfbc5e",
   "metadata": {},
   "outputs": [
    {
     "name": "stdout",
     "output_type": "stream",
     "text": [
      "[1, 2, 3, 4, 5, 6, 'Python']\n"
     ]
    }
   ],
   "source": [
    "liste=[1,2,3,4,5,6,]\n",
    "liste.append(\"Python\")\n",
    "print(liste)"
   ]
  },
  {
   "cell_type": "code",
   "execution_count": 24,
   "id": "ead62b80",
   "metadata": {},
   "outputs": [
    {
     "name": "stdout",
     "output_type": "stream",
     "text": [
      "[10, 20, 30, [7, 8]]\n"
     ]
    }
   ],
   "source": [
    "#Bir listeye yeni bir liste eklemek\n",
    "#(eklediğimiz liste(a),eklemek istediğimiz listenin komple bir \n",
    "#elemanı oldu )\n",
    "\n",
    "liste_2=[10,20,30]\n",
    "a=[7,8]\n",
    "liste_2.append(a)\n",
    "print(liste_2)"
   ]
  },
  {
   "cell_type": "markdown",
   "id": "e48ccf96",
   "metadata": {},
   "source": [
    "**pop metodu**"
   ]
  },
  {
   "cell_type": "markdown",
   "id": "7d01e8d5",
   "metadata": {},
   "source": [
    "Bu metod, eğer içine değer vermezsek listenin son indeksindeki elemanı, değer verirsek verdiğimiz değere karşılık gelen elemanı listeden atar ve attığı elemanı ekrana yazar."
   ]
  },
  {
   "cell_type": "code",
   "execution_count": 25,
   "id": "4bf7ea15",
   "metadata": {},
   "outputs": [
    {
     "data": {
      "text/plain": [
       "4"
      ]
     },
     "execution_count": 25,
     "metadata": {},
     "output_type": "execute_result"
    }
   ],
   "source": [
    "liste=[1,2,3,4,5]\n",
    "liste.pop(3)"
   ]
  },
  {
   "cell_type": "code",
   "execution_count": 26,
   "id": "e0ae0a93",
   "metadata": {},
   "outputs": [
    {
     "data": {
      "text/plain": [
       "5"
      ]
     },
     "execution_count": 26,
     "metadata": {},
     "output_type": "execute_result"
    }
   ],
   "source": [
    "liste.pop()"
   ]
  },
  {
   "cell_type": "code",
   "execution_count": 27,
   "id": "c17f84da",
   "metadata": {},
   "outputs": [
    {
     "name": "stdout",
     "output_type": "stream",
     "text": [
      "[1, 2, 3]\n"
     ]
    }
   ],
   "source": [
    "print(liste)"
   ]
  },
  {
   "cell_type": "markdown",
   "id": "41dc6296",
   "metadata": {},
   "source": [
    "**sort metodu**"
   ]
  },
  {
   "cell_type": "markdown",
   "id": "eb650c9c",
   "metadata": {},
   "source": [
    "sort metodu, listenin elemanlarını sıralamızı sağlar."
   ]
  },
  {
   "cell_type": "code",
   "execution_count": 28,
   "id": "338e9728",
   "metadata": {},
   "outputs": [
    {
     "name": "stdout",
     "output_type": "stream",
     "text": [
      "[23, 47, 56, 71, 88]\n"
     ]
    }
   ],
   "source": [
    "#Küçükten büyüğe doğru sıralar.\n",
    "\n",
    "liste=[23,56,88,71,47]\n",
    "\n",
    "liste.sort()\n",
    "print(liste)\n"
   ]
  },
  {
   "cell_type": "code",
   "execution_count": 29,
   "id": "c8f9b78b",
   "metadata": {},
   "outputs": [
    {
     "name": "stdout",
     "output_type": "stream",
     "text": [
      "[88, 71, 56, 47, 23]\n"
     ]
    }
   ],
   "source": [
    "#Büyükten küçüğe doğru sıralar.\n",
    "\n",
    "liste.sort(reverse=True)\n",
    "print(liste)"
   ]
  },
  {
   "cell_type": "code",
   "execution_count": 30,
   "id": "25f6c8fc",
   "metadata": {},
   "outputs": [
    {
     "name": "stdout",
     "output_type": "stream",
     "text": [
      "['Armut', 'Elma', 'Kiraz', 'Muz']\n"
     ]
    }
   ],
   "source": [
    "#Alfabetic olarak küçükten büyüğe doğru sıralar.\n",
    "liste=[\"Elma\",\"Armut\",\"Muz\",\"Kiraz\"]\n",
    "liste.sort()\n",
    "print(liste)\n"
   ]
  },
  {
   "cell_type": "code",
   "execution_count": 31,
   "id": "cc710d08",
   "metadata": {},
   "outputs": [
    {
     "name": "stdout",
     "output_type": "stream",
     "text": [
      "['Muz', 'Kiraz', 'Elma', 'Armut']\n"
     ]
    }
   ],
   "source": [
    "#Alfabetic olarak büyükten küçüğe doğru sıralar.\n",
    "liste=[\"Elma\",\"Armut\",\"Muz\",\"Kiraz\"]\n",
    "liste.sort(reverse=True)\n",
    "print(liste)\n"
   ]
  },
  {
   "cell_type": "code",
   "execution_count": 32,
   "id": "64ed8eec",
   "metadata": {},
   "outputs": [
    {
     "data": {
      "text/plain": [
       "3"
      ]
     },
     "execution_count": 32,
     "metadata": {},
     "output_type": "execute_result"
    }
   ],
   "source": [
    "#count() fonksiyonu ile bir elemanın listede kaç defa geçtiğini bulabiliriz:\n",
    "liste=[1,2,3,4,4,4,5,6,]\n",
    "liste.count(4)"
   ]
  },
  {
   "cell_type": "markdown",
   "id": "d47944e5",
   "metadata": {},
   "source": [
    "Liste veri tipinde .remove() metodu bir listeden belirtilen bir değeri kaldırmak için kullanılır. Eğer listede aynı değerden birden fazla varsa, .remove() metodu ilk bulduğu değeri kaldırır."
   ]
  },
  {
   "cell_type": "code",
   "execution_count": 33,
   "id": "2b56a1a2",
   "metadata": {},
   "outputs": [
    {
     "name": "stdout",
     "output_type": "stream",
     "text": [
      "[23, 56, 71, 47, 88, 22]\n",
      "[23, 56, 71, 47, 22]\n"
     ]
    }
   ],
   "source": [
    "liste=[23,56,88,71,47,88,22]\n",
    "liste.remove(88)\n",
    "print(liste)\n",
    "liste.remove(88)\n",
    "print(liste)\n"
   ]
  },
  {
   "cell_type": "markdown",
   "id": "0f3e6488",
   "metadata": {},
   "source": [
    "Örnek:"
   ]
  },
  {
   "cell_type": "code",
   "execution_count": 34,
   "id": "4b6945cd",
   "metadata": {},
   "outputs": [
    {
     "name": "stdout",
     "output_type": "stream",
     "text": [
      "[23, 56, 71, 47, 88, 22]\n"
     ]
    }
   ],
   "source": [
    "liste75=[23,56,88,71,47,88,22]\n",
    "liste75.remove(88)\n",
    "print(liste75)"
   ]
  },
  {
   "cell_type": "code",
   "execution_count": 35,
   "id": "5c757d55",
   "metadata": {},
   "outputs": [
    {
     "name": "stdout",
     "output_type": "stream",
     "text": [
      "[23, 56, 71, 47, 22]\n"
     ]
    }
   ],
   "source": [
    "liste75.remove(88)\n",
    "print(liste75)"
   ]
  },
  {
   "cell_type": "markdown",
   "id": "8509402b",
   "metadata": {},
   "source": [
    "**İÇ İÇE LİSTELER**"
   ]
  },
  {
   "cell_type": "code",
   "execution_count": 36,
   "id": "14a12e78",
   "metadata": {},
   "outputs": [
    {
     "data": {
      "text/plain": [
       "4"
      ]
     },
     "execution_count": 36,
     "metadata": {},
     "output_type": "execute_result"
    }
   ],
   "source": [
    "liste=[[1,2],[3,4],[5,6]]\n",
    "#Örneğin  bu listede 4 elemanına ulaşmaya çalışalım:\n",
    "liste[1][1]\n",
    "#Yani önce büyük listede 4'ün olduğu elemana (1), daha sonra diğer listede 4'e (1.indeks) ulaştık."
   ]
  },
  {
   "cell_type": "code",
   "execution_count": 37,
   "id": "bdf7c880",
   "metadata": {},
   "outputs": [
    {
     "data": {
      "text/plain": [
       "6"
      ]
     },
     "execution_count": 37,
     "metadata": {},
     "output_type": "execute_result"
    }
   ],
   "source": [
    "liste[2][1]"
   ]
  },
  {
   "cell_type": "code",
   "execution_count": 38,
   "id": "38109973",
   "metadata": {},
   "outputs": [
    {
     "name": "stdout",
     "output_type": "stream",
     "text": [
      "[1, 2, 3, 1, 2, 3, 1, 2, 3]\n",
      "[1, 2, 3]\n"
     ]
    }
   ],
   "source": [
    "#DİKKAT ET !!!\n",
    "liste=[1,2,3]\n",
    "print(liste*3)\n",
    "print(liste)\n",
    "#liste=liste*3 deseydik print(liste) ifadesinin çıktısı [1, 2, 3, 1, 2, 3, 1, 2, 3] olurdu."
   ]
  },
  {
   "cell_type": "code",
   "execution_count": null,
   "id": "a8e4919f",
   "metadata": {},
   "outputs": [],
   "source": []
  }
 ],
 "metadata": {
  "kernelspec": {
   "display_name": "Python 3 (ipykernel)",
   "language": "python",
   "name": "python3"
  },
  "language_info": {
   "codemirror_mode": {
    "name": "ipython",
    "version": 3
   },
   "file_extension": ".py",
   "mimetype": "text/x-python",
   "name": "python",
   "nbconvert_exporter": "python",
   "pygments_lexer": "ipython3",
   "version": "3.9.12"
  }
 },
 "nbformat": 4,
 "nbformat_minor": 5
}
