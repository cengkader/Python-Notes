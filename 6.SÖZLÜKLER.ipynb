{
 "cells": [
  {
   "cell_type": "markdown",
   "id": "df0bc13a",
   "metadata": {},
   "source": [
    "**SÖZLÜK VERİ TİPLERİ(DICTIONARIES)**"
   ]
  },
  {
   "cell_type": "markdown",
   "id": "bed15152",
   "metadata": {},
   "source": [
    "Tıpkı gerçek hayattaki sözlükler gibi davranan bir veri tipidir.Sözlüğün içindeki her bir eleman indeks ile değil anahtar(key),değer(value) olarak tutulur.(Mesela listenin her bir elemanı bir değerden oluşurdu.)\n",
    "\n",
    "Python'da, bir sözlük (dictionary) veri tipi, anahtar-değer çiftleri koleksiyonunu temsil eder. Sözlükler, bir anahtarın (key) belirli bir değerle (value) ilişkilendirildiği veri yapılarıdır. Anahtarlar benzersiz olmalıdır, yani aynı anahtara sahip birden fazla değer barındıramazlar. Değerler ise herhangi bir veri tipi olabilir: sayılar, diziler, işlevler ve hatta başka sözlükler."
   ]
  },
  {
   "cell_type": "markdown",
   "id": "c3a80751",
   "metadata": {},
   "source": [
    "NOT : Sözlükler, süslü parantezler {} kullanılarak oluşturulur."
   ]
  },
  {
   "cell_type": "markdown",
   "id": "92ffe967",
   "metadata": {},
   "source": [
    "**SÖZLÜK OLUŞTURMAK**"
   ]
  },
  {
   "cell_type": "code",
   "execution_count": 1,
   "id": "badb8645",
   "metadata": {},
   "outputs": [
    {
     "name": "stdout",
     "output_type": "stream",
     "text": [
      "{'Sıfır': 0, 'Bir': 1, 'İki': 2, 'Üç': 3}\n"
     ]
    }
   ],
   "source": [
    "#Süslü parantez ve iki nokta ile key(anahtar) değerlerimizi yerleştirelim.\n",
    "sözlük1={\"Sıfır\":0,\"Bir\":1,\"İki\":2,\"Üç\":3}\n",
    "#Mesela \"Bir\" anahtarına karşılık gelen değerin 1 olduğunu söyledik.\n",
    "print(sözlük1)"
   ]
  },
  {
   "cell_type": "code",
   "execution_count": 2,
   "id": "c9c7c1d9",
   "metadata": {},
   "outputs": [
    {
     "data": {
      "text/plain": [
       "dict"
      ]
     },
     "execution_count": 2,
     "metadata": {},
     "output_type": "execute_result"
    }
   ],
   "source": [
    "type(sözlük1)"
   ]
  },
  {
   "cell_type": "code",
   "execution_count": 3,
   "id": "dc033cce",
   "metadata": {},
   "outputs": [
    {
     "name": "stdout",
     "output_type": "stream",
     "text": [
      "{}\n"
     ]
    }
   ],
   "source": [
    "#Boş sözlük oluşturma:\n",
    "sözlük2={}\n",
    "print(sözlük2)"
   ]
  },
  {
   "cell_type": "code",
   "execution_count": 4,
   "id": "499294ee",
   "metadata": {},
   "outputs": [
    {
     "name": "stdout",
     "output_type": "stream",
     "text": [
      "{}\n"
     ]
    }
   ],
   "source": [
    "#Boş sözlük oluşturma:\n",
    "sözlük3=dict()\n",
    "print(sözlük3)"
   ]
  },
  {
   "cell_type": "code",
   "execution_count": 5,
   "id": "e6ff4582",
   "metadata": {},
   "outputs": [
    {
     "name": "stdout",
     "output_type": "stream",
     "text": [
      "[]\n"
     ]
    }
   ],
   "source": [
    "#Boş liste oluşturmayı hatırlayalım:\n",
    "liste=list()\n",
    "print(liste)"
   ]
  },
  {
   "cell_type": "code",
   "execution_count": 6,
   "id": "f87519d1",
   "metadata": {},
   "outputs": [
    {
     "name": "stdout",
     "output_type": "stream",
     "text": [
      "()\n"
     ]
    }
   ],
   "source": [
    "#Boş demet oluşturmayı hatırlayalım:\n",
    "demet=tuple()\n",
    "print(demet)"
   ]
  },
  {
   "cell_type": "markdown",
   "id": "6c2cb2cb",
   "metadata": {},
   "source": [
    "**Sözlük Değerlerine Erişmek ve Sözlüğe Değer Eklemek**"
   ]
  },
  {
   "cell_type": "markdown",
   "id": "435c816f",
   "metadata": {},
   "source": [
    "Bir değeri(value) elde elde etmek için indeksleri değil anahtarları(key) kullanacağız."
   ]
  },
  {
   "cell_type": "code",
   "execution_count": 7,
   "id": "f63137bc",
   "metadata": {},
   "outputs": [
    {
     "name": "stdout",
     "output_type": "stream",
     "text": [
      "{'Sıfır': 0, 'Bir': 1, 'İki': 2, 'Üç': 3}\n"
     ]
    }
   ],
   "source": [
    "print(sözlük1)"
   ]
  },
  {
   "cell_type": "code",
   "execution_count": 8,
   "id": "f31c263d",
   "metadata": {},
   "outputs": [
    {
     "data": {
      "text/plain": [
       "1"
      ]
     },
     "execution_count": 8,
     "metadata": {},
     "output_type": "execute_result"
    }
   ],
   "source": [
    "#\"Bir\" anahtarına karşılık gelen değeri buluyoruz: \n",
    "#indeks değil anahtar kelimeyi kullandık:\n",
    "sözlük1[\"Bir\"]"
   ]
  },
  {
   "cell_type": "code",
   "execution_count": 9,
   "id": "7e2bec41",
   "metadata": {},
   "outputs": [
    {
     "data": {
      "text/plain": [
       "3"
      ]
     },
     "execution_count": 9,
     "metadata": {},
     "output_type": "execute_result"
    }
   ],
   "source": [
    "sözlük1[\"Üç\"]"
   ]
  },
  {
   "cell_type": "code",
   "execution_count": 10,
   "id": "6cb581f4",
   "metadata": {},
   "outputs": [
    {
     "ename": "KeyError",
     "evalue": "'Beş'",
     "output_type": "error",
     "traceback": [
      "\u001b[1;31m---------------------------------------------------------------------------\u001b[0m",
      "\u001b[1;31mKeyError\u001b[0m                                  Traceback (most recent call last)",
      "Input \u001b[1;32mIn [10]\u001b[0m, in \u001b[0;36m<cell line: 2>\u001b[1;34m()\u001b[0m\n\u001b[0;32m      1\u001b[0m \u001b[38;5;66;03m#Olmayan bir anahtarı kullandık,hata aldık:\u001b[39;00m\n\u001b[1;32m----> 2\u001b[0m \u001b[43msözlük1\u001b[49m\u001b[43m[\u001b[49m\u001b[38;5;124;43m\"\u001b[39;49m\u001b[38;5;124;43mBeş\u001b[39;49m\u001b[38;5;124;43m\"\u001b[39;49m\u001b[43m]\u001b[49m\n",
      "\u001b[1;31mKeyError\u001b[0m: 'Beş'"
     ]
    }
   ],
   "source": [
    "#Olmayan bir anahtarı kullandık,hata aldık:\n",
    "sözlük1[\"Beş\"]"
   ]
  },
  {
   "cell_type": "code",
   "execution_count": 11,
   "id": "83673d07",
   "metadata": {},
   "outputs": [
    {
     "name": "stdout",
     "output_type": "stream",
     "text": [
      "{'Sıfır': 0, 'Bir': 1, 'İki': 2, 'Üç': 3, 'Beş': 5}\n"
     ]
    }
   ],
   "source": [
    "#Bir sözlüğe eleman ekleme:\n",
    "sözlük1[\"Beş\"]=5\n",
    "print(sözlük1)"
   ]
  },
  {
   "cell_type": "code",
   "execution_count": 12,
   "id": "cac1eec8",
   "metadata": {},
   "outputs": [
    {
     "name": "stdout",
     "output_type": "stream",
     "text": [
      "{'Sıfır': 0, 'Bir': 1, 'İki': 2, 'Üç': 3, 'Beş': 5, 'Dört': 4}\n"
     ]
    }
   ],
   "source": [
    "sözlük1[\"Dört\"]=4\n",
    "print(sözlük1)"
   ]
  },
  {
   "cell_type": "code",
   "execution_count": 13,
   "id": "75ff0c40",
   "metadata": {},
   "outputs": [
    {
     "data": {
      "text/plain": [
       "4"
      ]
     },
     "execution_count": 13,
     "metadata": {},
     "output_type": "execute_result"
    }
   ],
   "source": [
    "#a sözlüğünden 4 elemanına ulaşmak için:\n",
    "#iç içe listelerde olduğu gibi:\n",
    "a={\"Bir\":[1,2,3,4],\"İki\":[[1,2],[3,4],[5,6]],\"Üç\":15}\n",
    "a[\"İki\"][1][1]"
   ]
  },
  {
   "cell_type": "code",
   "execution_count": 14,
   "id": "be5a92ed",
   "metadata": {},
   "outputs": [
    {
     "name": "stdout",
     "output_type": "stream",
     "text": [
      "{'Bir': 16, 'İki': [[1, 2], [3, 4], [5, 6]], 'Üç': 15}\n"
     ]
    }
   ],
   "source": [
    "#Sözlükte bir anahtara karşılık gelen değeri değiştirmek için:\n",
    "a={\"Bir\":[1,2,3,4],\"İki\":[[1,2],[3,4],[5,6]],\"Üç\":15}\n",
    "a[\"Bir\"]=16\n",
    "print(a)"
   ]
  },
  {
   "cell_type": "markdown",
   "id": "49ad7fdb",
   "metadata": {},
   "source": [
    "NOT: Sözlükler hem değiştirilebilir hem de dinamik olarak eleman eklenebilir."
   ]
  },
  {
   "cell_type": "code",
   "execution_count": 15,
   "id": "b434b75a",
   "metadata": {},
   "outputs": [
    {
     "name": "stdout",
     "output_type": "stream",
     "text": [
      "{'Bir': 19, 'İki': [[1, 2], [3, 4], [5, 6]], 'Üç': 15}\n"
     ]
    }
   ],
   "source": [
    "#Sözlüğümüzün \"Bir\" anahtarına karşılık gelen değerini 3 arttıralım :\n",
    "a[\"Bir\"]+=3\n",
    "print(a)"
   ]
  },
  {
   "cell_type": "markdown",
   "id": "b5fc90e0",
   "metadata": {},
   "source": [
    "**İç İçe Sözlükler**"
   ]
  },
  {
   "cell_type": "code",
   "execution_count": 16,
   "id": "c62ccc68",
   "metadata": {},
   "outputs": [
    {
     "data": {
      "text/plain": [
       "'kış'"
      ]
     },
     "execution_count": 16,
     "metadata": {},
     "output_type": "execute_result"
    }
   ],
   "source": [
    "b={\"Sayılar\":{\"Bir\":1,\"İki\":2,\"Üç\":3},\"Meyveler\":{\"kiraz\":\"yaz\",\"portakal\":\"kış\",\"erik\":\"bahar\"}}\n",
    "b[\"Meyveler\"][\"portakal\"] "
   ]
  },
  {
   "cell_type": "markdown",
   "id": "14364a8a",
   "metadata": {},
   "source": [
    "**Temel Sözlük Metodları**"
   ]
  },
  {
   "cell_type": "code",
   "execution_count": 17,
   "id": "5dc7c004",
   "metadata": {},
   "outputs": [
    {
     "data": {
      "text/plain": [
       "dict_values([0, 1, 2, 3])"
      ]
     },
     "execution_count": 17,
     "metadata": {},
     "output_type": "execute_result"
    }
   ],
   "source": [
    "#values() metodu sözlüğün değerlerini bir liste olarak döner:\n",
    "\n",
    "sözlük4={\"Sıfır\":0,\"Bir\":1,\"İki\":2,\"Üç\":3}\n",
    "sözlük4.values()"
   ]
  },
  {
   "cell_type": "code",
   "execution_count": 18,
   "id": "1e61d610",
   "metadata": {},
   "outputs": [
    {
     "data": {
      "text/plain": [
       "dict_keys(['Sıfır', 'Bir', 'İki', 'Üç'])"
      ]
     },
     "execution_count": 18,
     "metadata": {},
     "output_type": "execute_result"
    }
   ],
   "source": [
    "#keys()  metodu sözlüğün anahtarlarını bir liste olarak döner:\n",
    "\n",
    "sözlük4={\"Sıfır\":0,\"Bir\":1,\"İki\":2,\"Üç\":3}\n",
    "sözlük4.keys()"
   ]
  },
  {
   "cell_type": "code",
   "execution_count": 19,
   "id": "a244a872",
   "metadata": {},
   "outputs": [
    {
     "data": {
      "text/plain": [
       "dict_items([('Sıfır', 0), ('Bir', 1), ('İki', 2), ('Üç', 3)])"
      ]
     },
     "execution_count": 19,
     "metadata": {},
     "output_type": "execute_result"
    }
   ],
   "source": [
    "#items() metodu sözlüğün anahtarlarını ve değerlerini bir liste içinde demet olarak döner:\n",
    "\n",
    "sözlük4={\"Sıfır\":0,\"Bir\":1,\"İki\":2,\"Üç\":3}\n",
    "sözlük4.items()\n",
    "#Burada oluşan her bir demetin ilk elemanı anahtar(key),ikinci elemanı ise değerdir.(value)"
   ]
  },
  {
   "cell_type": "markdown",
   "id": "b4c16b40",
   "metadata": {},
   "source": [
    "**ÖRNEK**"
   ]
  },
  {
   "cell_type": "code",
   "execution_count": 20,
   "id": "511069a0",
   "metadata": {},
   "outputs": [
    {
     "name": "stdout",
     "output_type": "stream",
     "text": [
      "Sıfır 0\n",
      "Bir 1\n",
      "İki 2\n",
      "Üç 3\n"
     ]
    }
   ],
   "source": [
    "for k,v in sözlük4.items():\n",
    "    print(k,v)"
   ]
  },
  {
   "cell_type": "code",
   "execution_count": null,
   "id": "cf372818",
   "metadata": {},
   "outputs": [],
   "source": [
    "#Anahtarlar ve bu anahtarlara karşılık gelen değerler yukarıdaki örnekte for döngüsü ile bulunmuştur."
   ]
  },
  {
   "cell_type": "code",
   "execution_count": null,
   "id": "65d38d43",
   "metadata": {},
   "outputs": [],
   "source": []
  }
 ],
 "metadata": {
  "kernelspec": {
   "display_name": "Python 3 (ipykernel)",
   "language": "python",
   "name": "python3"
  },
  "language_info": {
   "codemirror_mode": {
    "name": "ipython",
    "version": 3
   },
   "file_extension": ".py",
   "mimetype": "text/x-python",
   "name": "python",
   "nbconvert_exporter": "python",
   "pygments_lexer": "ipython3",
   "version": "3.9.12"
  }
 },
 "nbformat": 4,
 "nbformat_minor": 5
}
