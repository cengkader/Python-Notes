{
 "cells": [
  {
   "cell_type": "markdown",
   "id": "85531251",
   "metadata": {},
   "source": [
    "**KOŞULLU DURUMLAR**"
   ]
  },
  {
   "cell_type": "markdown",
   "id": "755d3e01",
   "metadata": {},
   "source": [
    "**Mantıksal Değerler ve Karşılaştırma Operatörleri**"
   ]
  },
  {
   "cell_type": "markdown",
   "id": "ecfcaf65",
   "metadata": {},
   "source": [
    "**Mantıksal Değerler(Boolean)**"
   ]
  },
  {
   "cell_type": "markdown",
   "id": "0669e035",
   "metadata": {},
   "source": [
    "İkili rakamlar aracılığıyla(1 (doğru)ve 0 (yanlış))mantıksal önermeleri temsil etmek için kullanılan bir cebirsel notasyon sistemidir."
   ]
  },
  {
   "cell_type": "markdown",
   "id": "aa3c4f95",
   "metadata": {},
   "source": [
    "Bu mantıksal değerler bir koşulun doğru olup olmadığını kontrol ederler."
   ]
  },
  {
   "cell_type": "markdown",
   "id": "86eabfa2",
   "metadata": {},
   "source": [
    "Boolean değerler python'da bir veri tipidir."
   ]
  },
  {
   "cell_type": "code",
   "execution_count": 5,
   "id": "85e68d3f",
   "metadata": {},
   "outputs": [
    {
     "name": "stdout",
     "output_type": "stream",
     "text": [
      "<class 'bool'>\n"
     ]
    }
   ],
   "source": [
    "a=True\n",
    "print(type(a))"
   ]
  },
  {
   "cell_type": "code",
   "execution_count": 6,
   "id": "3e952b81",
   "metadata": {},
   "outputs": [
    {
     "name": "stdout",
     "output_type": "stream",
     "text": [
      "<class 'bool'>\n"
     ]
    }
   ],
   "source": [
    "b=False\n",
    "print(type(b))"
   ]
  },
  {
   "cell_type": "markdown",
   "id": "aead2add",
   "metadata": {},
   "source": [
    "**Python'da bir sayı değeri 0'dan farklıysa True, 0 ise False olarak anlam kazanır.**\n",
    "Bunu bool() fonksiyonu ile dönüştürme yaparak görebiliriz."
   ]
  },
  {
   "cell_type": "code",
   "execution_count": 7,
   "id": "ac127162",
   "metadata": {},
   "outputs": [
    {
     "data": {
      "text/plain": [
       "True"
      ]
     },
     "execution_count": 7,
     "metadata": {},
     "output_type": "execute_result"
    }
   ],
   "source": [
    "bool(12.4)"
   ]
  },
  {
   "cell_type": "code",
   "execution_count": 9,
   "id": "9abc40de",
   "metadata": {},
   "outputs": [
    {
     "data": {
      "text/plain": [
       "True"
      ]
     },
     "execution_count": 9,
     "metadata": {},
     "output_type": "execute_result"
    }
   ],
   "source": [
    "bool(88)"
   ]
  },
  {
   "cell_type": "code",
   "execution_count": 8,
   "id": "a1c1ec91",
   "metadata": {},
   "outputs": [
    {
     "data": {
      "text/plain": [
       "False"
      ]
     },
     "execution_count": 8,
     "metadata": {},
     "output_type": "execute_result"
    }
   ],
   "source": [
    "bool(0)"
   ]
  },
  {
   "cell_type": "code",
   "execution_count": 10,
   "id": "edb50b1e",
   "metadata": {},
   "outputs": [
    {
     "data": {
      "text/plain": [
       "True"
      ]
     },
     "execution_count": 10,
     "metadata": {},
     "output_type": "execute_result"
    }
   ],
   "source": [
    "bool(-1)"
   ]
  },
  {
   "cell_type": "code",
   "execution_count": 11,
   "id": "ce4bbd84",
   "metadata": {},
   "outputs": [
    {
     "data": {
      "text/plain": [
       "False"
      ]
     },
     "execution_count": 11,
     "metadata": {},
     "output_type": "execute_result"
    }
   ],
   "source": [
    "bool(0.000)"
   ]
  },
  {
   "cell_type": "code",
   "execution_count": 12,
   "id": "f8f28f9b",
   "metadata": {},
   "outputs": [
    {
     "data": {
      "text/plain": [
       "False"
      ]
     },
     "execution_count": 12,
     "metadata": {},
     "output_type": "execute_result"
    }
   ],
   "source": [
    "bool(0.0)"
   ]
  },
  {
   "cell_type": "code",
   "execution_count": 13,
   "id": "9973e218",
   "metadata": {},
   "outputs": [
    {
     "data": {
      "text/plain": [
       "True"
      ]
     },
     "execution_count": 13,
     "metadata": {},
     "output_type": "execute_result"
    }
   ],
   "source": [
    "bool(0.1)"
   ]
  },
  {
   "cell_type": "markdown",
   "id": "b2b99b2b",
   "metadata": {},
   "source": [
    "Herhangi bir karşılaştırma operatörüyle iki tane veriyi(string,sayı vs) karşılaştırdığımız zaman\n",
    "karşımıza True ya da False çıkar."
   ]
  },
  {
   "cell_type": "markdown",
   "id": "0d3dd1f3",
   "metadata": {},
   "source": [
    "Karşılaştırma sonucu ortaya çıkan değerler mantıksal değerlerdir.(Yani bool değerleridir.)"
   ]
  },
  {
   "cell_type": "markdown",
   "id": "f61ae0ae",
   "metadata": {},
   "source": [
    "ÖRNEK:"
   ]
  },
  {
   "cell_type": "code",
   "execution_count": 15,
   "id": "95ef9e11",
   "metadata": {},
   "outputs": [
    {
     "data": {
      "text/plain": [
       "True"
      ]
     },
     "execution_count": 15,
     "metadata": {},
     "output_type": "execute_result"
    }
   ],
   "source": [
    "1==1"
   ]
  },
  {
   "cell_type": "code",
   "execution_count": 16,
   "id": "c1a57500",
   "metadata": {},
   "outputs": [
    {
     "data": {
      "text/plain": [
       "False"
      ]
     },
     "execution_count": 16,
     "metadata": {},
     "output_type": "execute_result"
    }
   ],
   "source": [
    "1==2"
   ]
  },
  {
   "cell_type": "code",
   "execution_count": 21,
   "id": "8156efd0",
   "metadata": {},
   "outputs": [
    {
     "data": {
      "text/plain": [
       "False"
      ]
     },
     "execution_count": 21,
     "metadata": {},
     "output_type": "execute_result"
    }
   ],
   "source": [
    "str(\"x\")==str(\"z\")"
   ]
  },
  {
   "cell_type": "code",
   "execution_count": 22,
   "id": "99c0cae9",
   "metadata": {},
   "outputs": [
    {
     "data": {
      "text/plain": [
       "True"
      ]
     },
     "execution_count": 22,
     "metadata": {},
     "output_type": "execute_result"
    }
   ],
   "source": [
    "\"x\"==\"x\""
   ]
  },
  {
   "cell_type": "code",
   "execution_count": 25,
   "id": "f97f7fa4",
   "metadata": {},
   "outputs": [
    {
     "data": {
      "text/plain": [
       "True"
      ]
     },
     "execution_count": 25,
     "metadata": {},
     "output_type": "execute_result"
    }
   ],
   "source": [
    "int(1)==float(1.0)"
   ]
  },
  {
   "cell_type": "code",
   "execution_count": 27,
   "id": "8f5182c4",
   "metadata": {},
   "outputs": [
    {
     "data": {
      "text/plain": [
       "False"
      ]
     },
     "execution_count": 27,
     "metadata": {},
     "output_type": "execute_result"
    }
   ],
   "source": [
    "1>2\n",
    "#1, 2 den büyük olmadığı için False değeri çıkacaktır.\n",
    "#Çıkan False değeri mantıksal değerdir."
   ]
  },
  {
   "cell_type": "code",
   "execution_count": 28,
   "id": "37c651c4",
   "metadata": {},
   "outputs": [
    {
     "data": {
      "text/plain": [
       "True"
      ]
     },
     "execution_count": 28,
     "metadata": {},
     "output_type": "execute_result"
    }
   ],
   "source": [
    "1<2\n",
    "#1,2 den küçük olduğu için True değeri çıkacaktır.\n",
    "#Çıkan True değeri mantıksal değerdir."
   ]
  },
  {
   "cell_type": "markdown",
   "id": "3cd59916",
   "metadata": {},
   "source": [
    "**NOT**"
   ]
  },
  {
   "cell_type": "markdown",
   "id": "06f5ffbf",
   "metadata": {},
   "source": [
    "Python'da bir değişkenin değerini sonradan belirlemek istersek geçici olarak bu değişkeni None (atanmamış anlamında) değerine eşitleyebiliriz."
   ]
  },
  {
   "cell_type": "code",
   "execution_count": 30,
   "id": "6742af36",
   "metadata": {},
   "outputs": [
    {
     "name": "stdout",
     "output_type": "stream",
     "text": [
      "None\n"
     ]
    }
   ],
   "source": [
    "a=None\n",
    "print(a)    #Henüz değer atamadık.\n"
   ]
  },
  {
   "cell_type": "code",
   "execution_count": 32,
   "id": "a4eebd43",
   "metadata": {},
   "outputs": [
    {
     "name": "stdout",
     "output_type": "stream",
     "text": [
      "4\n"
     ]
    }
   ],
   "source": [
    "a=4\n",
    "print(a)    #Şimdi değer atıyoruz."
   ]
  },
  {
   "cell_type": "markdown",
   "id": "c5159567",
   "metadata": {},
   "source": [
    "**Karşılaştırma Operatörleri**"
   ]
  },
  {
   "cell_type": "markdown",
   "id": "2795d378",
   "metadata": {},
   "source": [
    "**==**"
   ]
  },
  {
   "cell_type": "markdown",
   "id": "2f517083",
   "metadata": {},
   "source": [
    "İki değer birbirine eşitse True değilse False değer döner."
   ]
  },
  {
   "cell_type": "code",
   "execution_count": 37,
   "id": "3573c9eb",
   "metadata": {},
   "outputs": [
    {
     "data": {
      "text/plain": [
       "True"
      ]
     },
     "execution_count": 37,
     "metadata": {},
     "output_type": "execute_result"
    }
   ],
   "source": [
    "2==2"
   ]
  },
  {
   "cell_type": "code",
   "execution_count": 38,
   "id": "5450184d",
   "metadata": {},
   "outputs": [
    {
     "data": {
      "text/plain": [
       "False"
      ]
     },
     "execution_count": 38,
     "metadata": {},
     "output_type": "execute_result"
    }
   ],
   "source": [
    "2==3"
   ]
  },
  {
   "cell_type": "markdown",
   "id": "ccbcfbe1",
   "metadata": {},
   "source": [
    "**!=**"
   ]
  },
  {
   "cell_type": "markdown",
   "id": "9aa666b4",
   "metadata": {},
   "source": [
    "İki değer birbirine eşit değilse True,diğer durumda False değer döner."
   ]
  },
  {
   "cell_type": "code",
   "execution_count": 39,
   "id": "5e85d4c3",
   "metadata": {},
   "outputs": [
    {
     "data": {
      "text/plain": [
       "False"
      ]
     },
     "execution_count": 39,
     "metadata": {},
     "output_type": "execute_result"
    }
   ],
   "source": [
    "2!=2"
   ]
  },
  {
   "cell_type": "code",
   "execution_count": 40,
   "id": "26840d26",
   "metadata": {},
   "outputs": [
    {
     "data": {
      "text/plain": [
       "True"
      ]
     },
     "execution_count": 40,
     "metadata": {},
     "output_type": "execute_result"
    }
   ],
   "source": [
    "2!=3"
   ]
  },
  {
   "cell_type": "markdown",
   "id": "a0100110",
   "metadata": {},
   "source": [
    "**>**"
   ]
  },
  {
   "cell_type": "markdown",
   "id": "7db7ad05",
   "metadata": {},
   "source": [
    "Soldaki değer sağdaki değerden büyükse True, değilse False döner."
   ]
  },
  {
   "cell_type": "code",
   "execution_count": 41,
   "id": "08f67aa5",
   "metadata": {},
   "outputs": [
    {
     "data": {
      "text/plain": [
       "True"
      ]
     },
     "execution_count": 41,
     "metadata": {},
     "output_type": "execute_result"
    }
   ],
   "source": [
    "3>2"
   ]
  },
  {
   "cell_type": "code",
   "execution_count": 42,
   "id": "a19a584c",
   "metadata": {},
   "outputs": [
    {
     "data": {
      "text/plain": [
       "False"
      ]
     },
     "execution_count": 42,
     "metadata": {},
     "output_type": "execute_result"
    }
   ],
   "source": [
    "4>5"
   ]
  },
  {
   "cell_type": "markdown",
   "id": "0a6c4231",
   "metadata": {},
   "source": [
    "**<**"
   ]
  },
  {
   "cell_type": "markdown",
   "id": "37260ae8",
   "metadata": {},
   "source": [
    "Soldaki değer sağdaki değerden küçükse True,değilse False döner."
   ]
  },
  {
   "cell_type": "code",
   "execution_count": 43,
   "id": "24d4f7f5",
   "metadata": {},
   "outputs": [
    {
     "data": {
      "text/plain": [
       "True"
      ]
     },
     "execution_count": 43,
     "metadata": {},
     "output_type": "execute_result"
    }
   ],
   "source": [
    "5<6"
   ]
  },
  {
   "cell_type": "code",
   "execution_count": 44,
   "id": "2eb20381",
   "metadata": {},
   "outputs": [
    {
     "data": {
      "text/plain": [
       "False"
      ]
     },
     "execution_count": 44,
     "metadata": {},
     "output_type": "execute_result"
    }
   ],
   "source": [
    "8<6"
   ]
  },
  {
   "cell_type": "markdown",
   "id": "746a22e2",
   "metadata": {},
   "source": [
    "**>=**"
   ]
  },
  {
   "cell_type": "markdown",
   "id": "89271bb5",
   "metadata": {},
   "source": [
    "Soldaki değer sağdaki değerden büyükse veya sağdaki değere eşitse True, değilse False döner."
   ]
  },
  {
   "cell_type": "code",
   "execution_count": 47,
   "id": "9ab3be2b",
   "metadata": {},
   "outputs": [
    {
     "data": {
      "text/plain": [
       "True"
      ]
     },
     "execution_count": 47,
     "metadata": {},
     "output_type": "execute_result"
    }
   ],
   "source": [
    "3>=2"
   ]
  },
  {
   "cell_type": "code",
   "execution_count": 48,
   "id": "71d8eb59",
   "metadata": {},
   "outputs": [
    {
     "data": {
      "text/plain": [
       "True"
      ]
     },
     "execution_count": 48,
     "metadata": {},
     "output_type": "execute_result"
    }
   ],
   "source": [
    "3>=3"
   ]
  },
  {
   "cell_type": "code",
   "execution_count": 49,
   "id": "9c42c1fe",
   "metadata": {},
   "outputs": [
    {
     "data": {
      "text/plain": [
       "False"
      ]
     },
     "execution_count": 49,
     "metadata": {},
     "output_type": "execute_result"
    }
   ],
   "source": [
    "3>=4"
   ]
  },
  {
   "cell_type": "markdown",
   "id": "4ae68d4a",
   "metadata": {},
   "source": [
    "**<=**"
   ]
  },
  {
   "cell_type": "markdown",
   "id": "87b2b277",
   "metadata": {},
   "source": [
    "Soldaki değer sağdaki değerden küçükse veya sağdaki değere eşitse True,değilse False döner."
   ]
  },
  {
   "cell_type": "code",
   "execution_count": 50,
   "id": "62886490",
   "metadata": {},
   "outputs": [
    {
     "data": {
      "text/plain": [
       "True"
      ]
     },
     "execution_count": 50,
     "metadata": {},
     "output_type": "execute_result"
    }
   ],
   "source": [
    "3<=4"
   ]
  },
  {
   "cell_type": "code",
   "execution_count": 51,
   "id": "48291d00",
   "metadata": {},
   "outputs": [
    {
     "data": {
      "text/plain": [
       "True"
      ]
     },
     "execution_count": 51,
     "metadata": {},
     "output_type": "execute_result"
    }
   ],
   "source": [
    "3<=3"
   ]
  },
  {
   "cell_type": "code",
   "execution_count": 52,
   "id": "b870cbde",
   "metadata": {},
   "outputs": [
    {
     "data": {
      "text/plain": [
       "False"
      ]
     },
     "execution_count": 52,
     "metadata": {},
     "output_type": "execute_result"
    }
   ],
   "source": [
    "3<=2"
   ]
  },
  {
   "cell_type": "markdown",
   "id": "097f7e75",
   "metadata": {},
   "source": [
    "**ÖRNEK**"
   ]
  },
  {
   "cell_type": "markdown",
   "id": "82eee045",
   "metadata": {},
   "source": [
    "İki stringin eşit olup olmadığını kontrol edelim:"
   ]
  },
  {
   "cell_type": "code",
   "execution_count": 53,
   "id": "8f23fff9",
   "metadata": {},
   "outputs": [
    {
     "data": {
      "text/plain": [
       "True"
      ]
     },
     "execution_count": 53,
     "metadata": {},
     "output_type": "execute_result"
    }
   ],
   "source": [
    "\"Python\"==\"Python\""
   ]
  },
  {
   "cell_type": "code",
   "execution_count": 54,
   "id": "b6a248fa",
   "metadata": {},
   "outputs": [
    {
     "data": {
      "text/plain": [
       "True"
      ]
     },
     "execution_count": 54,
     "metadata": {},
     "output_type": "execute_result"
    }
   ],
   "source": [
    "\"Python\"!=\"Java\""
   ]
  },
  {
   "cell_type": "code",
   "execution_count": 55,
   "id": "d2584e05",
   "metadata": {},
   "outputs": [
    {
     "data": {
      "text/plain": [
       "False"
      ]
     },
     "execution_count": 55,
     "metadata": {},
     "output_type": "execute_result"
    }
   ],
   "source": [
    "\"Python\"==\"Java\""
   ]
  },
  {
   "cell_type": "markdown",
   "id": "81139d8d",
   "metadata": {},
   "source": [
    "İki listenin eşit olup olmadığını kontrol edelim:"
   ]
  },
  {
   "cell_type": "code",
   "execution_count": 56,
   "id": "a88a71d9",
   "metadata": {},
   "outputs": [
    {
     "data": {
      "text/plain": [
       "False"
      ]
     },
     "execution_count": 56,
     "metadata": {},
     "output_type": "execute_result"
    }
   ],
   "source": [
    "[5,6,7]==[1,2,3]"
   ]
  },
  {
   "cell_type": "code",
   "execution_count": 57,
   "id": "6c257557",
   "metadata": {},
   "outputs": [
    {
     "data": {
      "text/plain": [
       "True"
      ]
     },
     "execution_count": 57,
     "metadata": {},
     "output_type": "execute_result"
    }
   ],
   "source": [
    "[5,6,7]==[5,6,7]"
   ]
  },
  {
   "cell_type": "code",
   "execution_count": 58,
   "id": "a7c7ccbc",
   "metadata": {},
   "outputs": [
    {
     "data": {
      "text/plain": [
       "True"
      ]
     },
     "execution_count": 58,
     "metadata": {},
     "output_type": "execute_result"
    }
   ],
   "source": [
    "[5,6,7]!=[1,2,3]"
   ]
  },
  {
   "cell_type": "code",
   "execution_count": 59,
   "id": "f282ccf3",
   "metadata": {},
   "outputs": [
    {
     "data": {
      "text/plain": [
       "True"
      ]
     },
     "execution_count": 59,
     "metadata": {},
     "output_type": "execute_result"
    }
   ],
   "source": [
    "\"Araba\"<\"Zencefil\"\n",
    "#A harfi sözlükte Z den önce geldiği için küçükmüş gibi davranıp True sonucunu verecektir."
   ]
  },
  {
   "cell_type": "code",
   "execution_count": 60,
   "id": "e3d7d80c",
   "metadata": {},
   "outputs": [
    {
     "data": {
      "text/plain": [
       "False"
      ]
     },
     "execution_count": 60,
     "metadata": {},
     "output_type": "execute_result"
    }
   ],
   "source": [
    "\"Araba\">\"Zencefil\""
   ]
  },
  {
   "cell_type": "code",
   "execution_count": 61,
   "id": "17aa80dd",
   "metadata": {},
   "outputs": [
    {
     "data": {
      "text/plain": [
       "True"
      ]
     },
     "execution_count": 61,
     "metadata": {},
     "output_type": "execute_result"
    }
   ],
   "source": [
    "\"Zencefil\">\"Araba\""
   ]
  },
  {
   "cell_type": "code",
   "execution_count": null,
   "id": "59dc103c",
   "metadata": {},
   "outputs": [],
   "source": []
  }
 ],
 "metadata": {
  "kernelspec": {
   "display_name": "Python 3 (ipykernel)",
   "language": "python",
   "name": "python3"
  },
  "language_info": {
   "codemirror_mode": {
    "name": "ipython",
    "version": 3
   },
   "file_extension": ".py",
   "mimetype": "text/x-python",
   "name": "python",
   "nbconvert_exporter": "python",
   "pygments_lexer": "ipython3",
   "version": "3.9.12"
  }
 },
 "nbformat": 4,
 "nbformat_minor": 5
}
