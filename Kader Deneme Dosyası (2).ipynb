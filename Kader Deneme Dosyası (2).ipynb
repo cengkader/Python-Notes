{
 "cells": [
  {
   "cell_type": "markdown",
   "id": "45849d72",
   "metadata": {},
   "source": [
    "****ÖRNEKLER****"
   ]
  },
  {
   "cell_type": "markdown",
   "id": "0e7d4c46",
   "metadata": {},
   "source": [
    "Veri Tipi:Bir değerin türünü veya niteliğini belirten bir kavramdır.  Python da farklı türlerde verileri işlemek ve depolamak için çeşitli veri tipleri sunar. Bu veri tipleri, belirli türdeki değerlerin nasıl işleneceğini ve davranacağını belirler."
   ]
  },
  {
   "cell_type": "markdown",
   "id": "40d37f2e",
   "metadata": {},
   "source": [
    "Değişkenler:Bir veri tipinden değer tutan birimlerdir."
   ]
  },
  {
   "cell_type": "markdown",
   "id": "6405e0a2",
   "metadata": {},
   "source": [
    " Değişkenlere isim verirken dikkat edilmesi gereken noktalar:\n",
    " 1. Değişken isimleri bir sayı ile başlayamaz.\n",
    " 2. Değişken ismi kelimelerden oluşuyorsa aralarında boşluk olamaz.\n",
    " 3.Pythonda tanımlı anahtar kelimeler değişken ismi olarak kullanılamaz.(while, not vs. )\n",
    "   :'\",<>/?|()!@#$%^&*~-+ ve eğik çizgi sembolleri değişken ismi içinde kullanılamaz.\n",
    "   (Sadece _ sembolü kullanılabilir.)\n"
   ]
  },
  {
   "cell_type": "markdown",
   "id": "313c8291",
   "metadata": {},
   "source": [
    "Örneğin: "
   ]
  },
  {
   "cell_type": "code",
   "execution_count": 30,
   "id": "a18d7f97",
   "metadata": {},
   "outputs": [
    {
     "name": "stdout",
     "output_type": "stream",
     "text": [
      "10\n",
      "10\n",
      "10.0\n"
     ]
    }
   ],
   "source": [
    "i=10\n",
    "print(i)\n",
    "print(int(i))\n",
    "print(float(i))"
   ]
  },
  {
   "cell_type": "markdown",
   "id": "9bc61b94",
   "metadata": {},
   "source": [
    "Not:Python'da iki değişkenin değerini birbiriyle değiştirmek için pratik bir yöntem bulunmaktadır.\n"
   ]
  },
  {
   "cell_type": "code",
   "execution_count": 31,
   "id": "ab47273c",
   "metadata": {},
   "outputs": [
    {
     "name": "stdout",
     "output_type": "stream",
     "text": [
      "4\n",
      "8\n"
     ]
    }
   ],
   "source": [
    "x=8\n",
    "y=4\n",
    "x,y=y,x\n",
    "print(x)\n",
    "print(y)\n"
   ]
  },
  {
   "cell_type": "markdown",
   "id": "f76f590b",
   "metadata": {},
   "source": [
    "Python'da bir değişkenin değerini artırma işlemleri :"
   ]
  },
  {
   "cell_type": "code",
   "execution_count": 32,
   "id": "0be1bf42",
   "metadata": {},
   "outputs": [
    {
     "name": "stdout",
     "output_type": "stream",
     "text": [
      "3\n"
     ]
    }
   ],
   "source": [
    "f=2\n",
    "f=f+1\n",
    "print(f)"
   ]
  },
  {
   "cell_type": "markdown",
   "id": "4dfaf726",
   "metadata": {},
   "source": [
    "f=f+1 işlemini pratik olarak f+=1 şeklinde yazabiliriz."
   ]
  },
  {
   "cell_type": "markdown",
   "id": "2232f573",
   "metadata": {},
   "source": [
    "ÖRNEK:"
   ]
  },
  {
   "cell_type": "code",
   "execution_count": 42,
   "id": "ee97786b",
   "metadata": {},
   "outputs": [
    {
     "name": "stdout",
     "output_type": "stream",
     "text": [
      "Hello World\n",
      "Hello World\n",
      "Hello World\n",
      "Hello World\n",
      "Hello World\n",
      "Hello World\n",
      "hello world\n",
      "HELLO WORLD\n",
      "3\n",
      "10\n"
     ]
    }
   ],
   "source": [
    "message='Hello World'\n",
    "print(message)\n",
    "print(message[:11])\n",
    "print(message[0:])\n",
    "print(message[0:11])\n",
    "print(message[ : ])\n",
    "print(message[:])\n",
    "print(message.lower())\n",
    "print(message.upper())\n",
    "print(message.count('l'))\n",
    "print(message.find('d'))\n"
   ]
  },
  {
   "cell_type": "markdown",
   "id": "d8548c55",
   "metadata": {},
   "source": [
    "ÖRNEK:"
   ]
  },
  {
   "cell_type": "code",
   "execution_count": 43,
   "id": "7d31e996",
   "metadata": {},
   "outputs": [
    {
     "name": "stdout",
     "output_type": "stream",
     "text": [
      "Hi Universe\n"
     ]
    }
   ],
   "source": [
    "message='Hello World'\n",
    "new_message= message.replace('Hello', 'Hi').replace(\"World\",\"Universe\")\n",
    "print(new_message)"
   ]
  },
  {
   "cell_type": "markdown",
   "id": "62b99c1c",
   "metadata": {},
   "source": [
    "****KARAKTER DİZİLERİ (STRING)****"
   ]
  },
  {
   "cell_type": "markdown",
   "id": "05d36e37",
   "metadata": {},
   "source": [
    "String Veri Tipi:Python'da \"string\" veri tipi, metin veya karakter dizilerini temsil eden bir veri tipidir."
   ]
  },
  {
   "cell_type": "markdown",
   "id": "5f7d2378",
   "metadata": {},
   "source": [
    "Stringler tek,çift ya da 3 tırnak ile oluşturulabilir ancak hangisi ile başlanırsa onunla bitirilmelidir."
   ]
  },
  {
   "cell_type": "markdown",
   "id": "21fab544",
   "metadata": {},
   "source": [
    "HATALI KOD ÖRNEĞİ :"
   ]
  },
  {
   "cell_type": "code",
   "execution_count": 8,
   "id": "a57fbd02",
   "metadata": {},
   "outputs": [
    {
     "ename": "SyntaxError",
     "evalue": "invalid syntax (2908006981.py, line 1)",
     "output_type": "error",
     "traceback": [
      "\u001b[1;36m  Input \u001b[1;32mIn [8]\u001b[1;36m\u001b[0m\n\u001b[1;33m    print('Kader'in dersi var.')\u001b[0m\n\u001b[1;37m                          ^\u001b[0m\n\u001b[1;31mSyntaxError\u001b[0m\u001b[1;31m:\u001b[0m invalid syntax\n"
     ]
    }
   ],
   "source": [
    "print('Kader'in dersi var.')"
   ]
  },
  {
   "cell_type": "code",
   "execution_count": 9,
   "id": "4c361578",
   "metadata": {},
   "outputs": [
    {
     "name": "stdout",
     "output_type": "stream",
     "text": [
      "Kader'in dersi var.\n"
     ]
    }
   ],
   "source": [
    "print('Kader\\'in dersi var.' )\n"
   ]
  },
  {
   "cell_type": "markdown",
   "id": "adbdea28",
   "metadata": {},
   "source": [
    "****STRING INDEKSLEME VE PARÇALAMA****"
   ]
  },
  {
   "cell_type": "markdown",
   "id": "5e35c2bc",
   "metadata": {},
   "source": [
    "Not:Python'da indeksler sıfırdan başlar."
   ]
  },
  {
   "cell_type": "markdown",
   "id": "94370927",
   "metadata": {},
   "source": [
    "Örneğin; 0.elemana ulaşalım.Bunun için [] operatörünü kullanacağız."
   ]
  },
  {
   "cell_type": "code",
   "execution_count": 12,
   "id": "c931a4a0",
   "metadata": {},
   "outputs": [
    {
     "name": "stdout",
     "output_type": "stream",
     "text": [
      "K\n"
     ]
    }
   ],
   "source": [
    "a='Kader'\n",
    "print(a[0])"
   ]
  },
  {
   "cell_type": "markdown",
   "id": "70dcac4c",
   "metadata": {},
   "source": [
    "0. indekste hangi karakterin olduğunu öğrenmek için kullandık."
   ]
  },
  {
   "cell_type": "markdown",
   "id": "7875a27a",
   "metadata": {},
   "source": [
    "Not:Python'da stringler baştan olduğu gibi sondan da indekslenebilirler.\n",
    "    Sondan başlayarak -1,-2...diye indekslenirler."
   ]
  },
  {
   "cell_type": "markdown",
   "id": "d300d1cd",
   "metadata": {},
   "source": [
    "Örneğin;"
   ]
  },
  {
   "cell_type": "code",
   "execution_count": 13,
   "id": "0c9d4546",
   "metadata": {},
   "outputs": [
    {
     "name": "stdout",
     "output_type": "stream",
     "text": [
      "h\n"
     ]
    }
   ],
   "source": [
    "b='Merhaba'\n",
    "print(b[-4])"
   ]
  },
  {
   "cell_type": "markdown",
   "id": "f8d385df",
   "metadata": {},
   "source": [
    "Not:Uzun bir stringin sadece belli bir kısmını elde etmek için string parçalama işlemini kullanırız.\n",
    "\n",
    "\n",
    "FORMÜL:  [başlama indeksi: bitiş indeksi: atlama değeri]\n"
   ]
  },
  {
   "cell_type": "markdown",
   "id": "0319a0b0",
   "metadata": {},
   "source": [
    "Örneğin;"
   ]
  },
  {
   "cell_type": "code",
   "execution_count": 38,
   "id": "a5aa7430",
   "metadata": {},
   "outputs": [
    {
     "name": "stdout",
     "output_type": "stream",
     "text": [
      "lo Wo\n"
     ]
    }
   ],
   "source": [
    "x='Hello World'\n",
    "print(x[3:8])"
   ]
  },
  {
   "cell_type": "markdown",
   "id": "0964687c",
   "metadata": {},
   "source": [
    "3.indeksten başla, 8.indekse kadar git ama 8.indeksi dahil etme anlamına gelir."
   ]
  },
  {
   "cell_type": "markdown",
   "id": "22a0d1d6",
   "metadata": {},
   "source": [
    "Örnek:"
   ]
  },
  {
   "cell_type": "code",
   "execution_count": 16,
   "id": "3df29dd6",
   "metadata": {},
   "outputs": [
    {
     "name": "stdout",
     "output_type": "stream",
     "text": [
      "hnporma\n"
     ]
    }
   ],
   "source": [
    "d='Python programlama'\n",
    "print(d[3:16:2])"
   ]
  },
  {
   "cell_type": "markdown",
   "id": "489d4b1d",
   "metadata": {},
   "source": [
    "Örnek:"
   ]
  },
  {
   "cell_type": "code",
   "execution_count": 17,
   "id": "11ac887b",
   "metadata": {},
   "outputs": [
    {
     "name": "stdout",
     "output_type": "stream",
     "text": [
      "Python programl\n"
     ]
    }
   ],
   "source": [
    "print(d[:-3:])"
   ]
  },
  {
   "cell_type": "markdown",
   "id": "f827cc9f",
   "metadata": {},
   "source": [
    "Baştan başlayıp sondan 3.indekse kadar stringi parçala demektir.\n"
   ]
  },
  {
   "cell_type": "markdown",
   "id": "fa569499",
   "metadata": {},
   "source": [
    "Örnek:"
   ]
  },
  {
   "cell_type": "code",
   "execution_count": 18,
   "id": "76a35732",
   "metadata": {},
   "outputs": [
    {
     "name": "stdout",
     "output_type": "stream",
     "text": [
      "program\n"
     ]
    }
   ],
   "source": [
    "print(d[7:-4])"
   ]
  },
  {
   "cell_type": "markdown",
   "id": "a3156ae3",
   "metadata": {},
   "source": [
    "7.indeksten başlayıp sondan 4.indekse kadar stringi parçala demektir."
   ]
  },
  {
   "cell_type": "markdown",
   "id": "2cf1352a",
   "metadata": {},
   "source": [
    "Örnek:"
   ]
  },
  {
   "cell_type": "code",
   "execution_count": 19,
   "id": "d072659b",
   "metadata": {},
   "outputs": [
    {
     "name": "stdout",
     "output_type": "stream",
     "text": [
      "amalmargorp nohtyP\n"
     ]
    }
   ],
   "source": [
    "print(d[::-1])"
   ]
  },
  {
   "cell_type": "markdown",
   "id": "1db03f2e",
   "metadata": {},
   "source": [
    "Tersten giderek stringi parçala anlamına gelir."
   ]
  },
  {
   "cell_type": "code",
   "execution_count": 20,
   "id": "69d7e2c3",
   "metadata": {},
   "outputs": [
    {
     "name": "stdout",
     "output_type": "stream",
     "text": [
      "aamropnhy\n"
     ]
    }
   ],
   "source": [
    "print(d[::-2])"
   ]
  },
  {
   "cell_type": "markdown",
   "id": "d8c78c76",
   "metadata": {},
   "source": [
    "Tersten ikişer ikişer atlayarak stringi parçala anlamına gelir."
   ]
  },
  {
   "cell_type": "markdown",
   "id": "d772a025",
   "metadata": {},
   "source": [
    "****STRING ÖZELLİKLERİ****"
   ]
  },
  {
   "cell_type": "markdown",
   "id": "42c0200b",
   "metadata": {},
   "source": [
    "Örnek:"
   ]
  },
  {
   "cell_type": "code",
   "execution_count": 21,
   "id": "2df8f5d8",
   "metadata": {},
   "outputs": [],
   "source": [
    "greeting='Hello'\n",
    "name='Michael'"
   ]
  },
  {
   "cell_type": "markdown",
   "id": "291a2f26",
   "metadata": {},
   "source": [
    "1.YOL"
   ]
  },
  {
   "cell_type": "code",
   "execution_count": 25,
   "id": "f20ac8e1",
   "metadata": {},
   "outputs": [
    {
     "name": "stdout",
     "output_type": "stream",
     "text": [
      "Hello Michael.Welcome!\n"
     ]
    }
   ],
   "source": [
    "note=greeting+' '+name+'.Welcome!'\n",
    "print(note)"
   ]
  },
  {
   "cell_type": "markdown",
   "id": "c3e3a1d8",
   "metadata": {},
   "source": [
    "2.YOL"
   ]
  },
  {
   "cell_type": "code",
   "execution_count": 26,
   "id": "54e74bc6",
   "metadata": {},
   "outputs": [
    {
     "name": "stdout",
     "output_type": "stream",
     "text": [
      "Hello Michael.Welcome\n"
     ]
    }
   ],
   "source": [
    "note='{} {}.Welcome'.format(greeting,name)\n",
    "print(note)"
   ]
  },
  {
   "cell_type": "markdown",
   "id": "8be7f3b7",
   "metadata": {},
   "source": [
    "3.YOL"
   ]
  },
  {
   "cell_type": "code",
   "execution_count": 29,
   "id": "a7135a08",
   "metadata": {},
   "outputs": [
    {
     "name": "stdout",
     "output_type": "stream",
     "text": [
      "Hello,Michael.Welcome!\n"
     ]
    }
   ],
   "source": [
    "note=f'{greeting},{name}.Welcome!'\n",
    "print(note)"
   ]
  },
  {
   "cell_type": "markdown",
   "id": "d2aa43d2",
   "metadata": {},
   "source": [
    "****Bir string'in uzunluğunu bulma :****"
   ]
  },
  {
   "cell_type": "code",
   "execution_count": 40,
   "id": "4a56b113",
   "metadata": {},
   "outputs": [
    {
     "data": {
      "text/plain": [
       "7"
      ]
     },
     "execution_count": 40,
     "metadata": {},
     "output_type": "execute_result"
    }
   ],
   "source": [
    "string= 'Merhaba'\n",
    "len(string)"
   ]
  },
  {
   "cell_type": "code",
   "execution_count": 47,
   "id": "9fff205f",
   "metadata": {},
   "outputs": [
    {
     "ename": "TypeError",
     "evalue": "'str' object does not support item assignment",
     "output_type": "error",
     "traceback": [
      "\u001b[1;31m---------------------------------------------------------------------------\u001b[0m",
      "\u001b[1;31mTypeError\u001b[0m                                 Traceback (most recent call last)",
      "Input \u001b[1;32mIn [47]\u001b[0m, in \u001b[0;36m<cell line: 1>\u001b[1;34m()\u001b[0m\n\u001b[1;32m----> 1\u001b[0m string[\u001b[38;5;241m3\u001b[39m]\u001b[38;5;241m=\u001b[39m\u001b[38;5;124m'\u001b[39m\u001b[38;5;124mH\u001b[39m\u001b[38;5;124m'\u001b[39m\n\u001b[0;32m      2\u001b[0m \u001b[38;5;28mprint\u001b[39m(string)\n",
      "\u001b[1;31mTypeError\u001b[0m: 'str' object does not support item assignment"
     ]
    }
   ],
   "source": [
    "string[3]='H'\n",
    "print(string)"
   ]
  },
  {
   "cell_type": "markdown",
   "id": "32bb0bb3",
   "metadata": {},
   "source": [
    "Burada da görüldüğü gibi Python'da direkt olarak bir değişkenin karakterini değiştiremiyoruz. \n",
    "\n",
    "Stringler böyle bir işlemi desteklemiyor."
   ]
  },
  {
   "cell_type": "markdown",
   "id": "a13cb0c7",
   "metadata": {},
   "source": [
    "****Not:**** Python'da stringler tıpkı sayılar gibi birbirleriyle toplanabilir."
   ]
  },
  {
   "cell_type": "code",
   "execution_count": 61,
   "id": "b8adfe69",
   "metadata": {},
   "outputs": [
    {
     "name": "stdout",
     "output_type": "stream",
     "text": [
      "Hello World\n"
     ]
    }
   ],
   "source": [
    "a='Hello'\n",
    "b='World'\n",
    "c=a+ ' ' +b\n",
    "print(c)\n",
    "\n"
   ]
  },
  {
   "cell_type": "code",
   "execution_count": 65,
   "id": "119ddf48",
   "metadata": {},
   "outputs": [
    {
     "name": "stdout",
     "output_type": "stream",
     "text": [
      "Python   Python   Python   \n"
     ]
    }
   ],
   "source": [
    "print('Python   '*3)"
   ]
  },
  {
   "cell_type": "markdown",
   "id": "b67c2b76",
   "metadata": {},
   "source": [
    "Örnek:"
   ]
  },
  {
   "cell_type": "code",
   "execution_count": 67,
   "id": "d5cf6e93",
   "metadata": {},
   "outputs": [
    {
     "name": "stdout",
     "output_type": "stream",
     "text": [
      "Python Programlama\n"
     ]
    }
   ],
   "source": [
    "a='Python '\n",
    "a=a+ 'Programlama'\n",
    "print(a)"
   ]
  },
  {
   "cell_type": "code",
   "execution_count": null,
   "id": "1274ca00",
   "metadata": {},
   "outputs": [],
   "source": []
  },
  {
   "cell_type": "code",
   "execution_count": null,
   "id": "485cc2c7",
   "metadata": {},
   "outputs": [],
   "source": []
  },
  {
   "cell_type": "code",
   "execution_count": null,
   "id": "875cf490",
   "metadata": {},
   "outputs": [],
   "source": []
  },
  {
   "cell_type": "markdown",
   "id": "9bee3b80",
   "metadata": {},
   "source": [
    "****INTEGERS ve FLOATS****"
   ]
  },
  {
   "cell_type": "code",
   "execution_count": 33,
   "id": "0093ca38",
   "metadata": {},
   "outputs": [
    {
     "name": "stdout",
     "output_type": "stream",
     "text": [
      "<class 'int'>\n",
      "<class 'float'>\n"
     ]
    }
   ],
   "source": [
    "num=3\n",
    "print(type(num))\n",
    "num_2=3.14\n",
    "print(type(num_2))\n"
   ]
  },
  {
   "cell_type": "markdown",
   "id": "512d3bd5",
   "metadata": {},
   "source": [
    "int (tam sayılar): Örneğin: 5, -12, 1000                  \n",
    "        \n",
    "float (ondalık sayılar): Örneğin: 3.14, -0.5, 2.0"
   ]
  },
  {
   "cell_type": "markdown",
   "id": "ddcd4114",
   "metadata": {},
   "source": [
    "****Arithmetic Operators****\n",
    "\n",
    "Addition: 3+2\n",
    "\n",
    "Subtraction: 3-2\n",
    "\n",
    "Multiplication: 3*2\n",
    "\n",
    "Division: 3/2\n",
    "\n",
    "Floor Divison: 3//2\n",
    "\n",
    "Exponent:3**2\n",
    "\n",
    "Modulus: 3%2"
   ]
  },
  {
   "cell_type": "markdown",
   "id": "19318eaf",
   "metadata": {},
   "source": [
    "Not:Python'da 'abs()'fonksiyonu bir sayının mutlak değerini (absolute value) döndüren bir\n",
    "built-in (yerleşik) fonksiyondur.\n"
   ]
  },
  {
   "cell_type": "markdown",
   "id": "39cd00a7",
   "metadata": {},
   "source": [
    "Örnek:"
   ]
  },
  {
   "cell_type": "code",
   "execution_count": 34,
   "id": "eebc3076",
   "metadata": {},
   "outputs": [
    {
     "name": "stdout",
     "output_type": "stream",
     "text": [
      "3\n"
     ]
    }
   ],
   "source": [
    "print(abs(-3))"
   ]
  },
  {
   "cell_type": "markdown",
   "id": "fd02665d",
   "metadata": {},
   "source": [
    "Not: Python'da round() fonksiyonu, ondalıklı sayıları belirli bir hassasiyete göre yuvarlayan \n",
    "bir built-in (yerleşik) fonksiyondur."
   ]
  },
  {
   "cell_type": "markdown",
   "id": "57ca697c",
   "metadata": {},
   "source": [
    "Örnek:"
   ]
  },
  {
   "cell_type": "code",
   "execution_count": 35,
   "id": "39f6bb6e",
   "metadata": {},
   "outputs": [
    {
     "name": "stdout",
     "output_type": "stream",
     "text": [
      "3\n",
      "3.1416\n"
     ]
    }
   ],
   "source": [
    "print(round(3.14159))\n",
    "print(round(3.14159,4))"
   ]
  },
  {
   "cell_type": "code",
   "execution_count": null,
   "id": "b8783949",
   "metadata": {},
   "outputs": [],
   "source": []
  },
  {
   "cell_type": "code",
   "execution_count": null,
   "id": "9a4d134c",
   "metadata": {},
   "outputs": [],
   "source": []
  },
  {
   "cell_type": "code",
   "execution_count": null,
   "id": "5cea7186",
   "metadata": {},
   "outputs": [],
   "source": []
  },
  {
   "cell_type": "code",
   "execution_count": null,
   "id": "744ccbab",
   "metadata": {},
   "outputs": [],
   "source": []
  },
  {
   "cell_type": "code",
   "execution_count": null,
   "id": "b46c1061",
   "metadata": {},
   "outputs": [],
   "source": []
  },
  {
   "cell_type": "code",
   "execution_count": null,
   "id": "fa808593",
   "metadata": {},
   "outputs": [],
   "source": []
  },
  {
   "cell_type": "code",
   "execution_count": null,
   "id": "692f8253",
   "metadata": {},
   "outputs": [],
   "source": []
  },
  {
   "cell_type": "code",
   "execution_count": null,
   "id": "e8a27cc1",
   "metadata": {},
   "outputs": [],
   "source": []
  }
 ],
 "metadata": {
  "kernelspec": {
   "display_name": "Python 3 (ipykernel)",
   "language": "python",
   "name": "python3"
  },
  "language_info": {
   "codemirror_mode": {
    "name": "ipython",
    "version": 3
   },
   "file_extension": ".py",
   "mimetype": "text/x-python",
   "name": "python",
   "nbconvert_exporter": "python",
   "pygments_lexer": "ipython3",
   "version": "3.9.12"
  }
 },
 "nbformat": 4,
 "nbformat_minor": 5
}
