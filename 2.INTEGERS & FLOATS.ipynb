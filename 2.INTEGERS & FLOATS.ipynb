{
 "cells": [
  {
   "cell_type": "markdown",
   "id": "a98c6412",
   "metadata": {},
   "source": [
    "**INTEGERS ve FLOATS**"
   ]
  },
  {
   "cell_type": "code",
   "execution_count": 1,
   "id": "2ea53f21",
   "metadata": {},
   "outputs": [
    {
     "name": "stdout",
     "output_type": "stream",
     "text": [
      "<class 'int'>\n",
      "<class 'float'>\n"
     ]
    }
   ],
   "source": [
    "num=3\n",
    "print(type(num))\n",
    "num_2=3.14\n",
    "print(type(num_2))\n"
   ]
  },
  {
   "cell_type": "markdown",
   "id": "ca74f26d",
   "metadata": {},
   "source": [
    "int (tam sayılar): Örneğin: 5, -12, 1000\n",
    "\n",
    "float (ondalık sayılar): Örneğin: 3.14, -0.5, 2.0"
   ]
  },
  {
   "cell_type": "markdown",
   "id": "e2f26afe",
   "metadata": {},
   "source": [
    "**Arithmetic Operators**\n",
    "\n",
    "Addition: 3+2\n",
    "\n",
    "Subtraction: 3-2\n",
    "\n",
    "Multiplication: 3*2\n",
    "\n",
    "Division: 3/2\n",
    "\n",
    "Floor Divison: 3//2\n",
    "\n",
    "Exponent:3**2\n",
    "\n",
    "Modulus: 3%2"
   ]
  },
  {
   "cell_type": "markdown",
   "id": "7fec6e20",
   "metadata": {},
   "source": [
    "Not:Python'da 'abs()'fonksiyonu bir sayının mutlak değerini (absolute value) döndüren bir built-in (yerleşik) fonksiyondur."
   ]
  },
  {
   "cell_type": "markdown",
   "id": "791088e7",
   "metadata": {},
   "source": [
    "Örnek:"
   ]
  },
  {
   "cell_type": "code",
   "execution_count": 2,
   "id": "8ddbc11d",
   "metadata": {},
   "outputs": [
    {
     "name": "stdout",
     "output_type": "stream",
     "text": [
      "3\n"
     ]
    }
   ],
   "source": [
    "print(abs(-3))"
   ]
  },
  {
   "cell_type": "markdown",
   "id": "f4284dd6",
   "metadata": {},
   "source": [
    "Not: Python'da round() fonksiyonu, ondalıklı sayıları belirli bir hassasiyete göre yuvarlayan bir built-in (yerleşik) fonksiyondur."
   ]
  },
  {
   "cell_type": "markdown",
   "id": "3e7b5a5c",
   "metadata": {},
   "source": [
    "Örnek:"
   ]
  },
  {
   "cell_type": "code",
   "execution_count": 3,
   "id": "f967dcc0",
   "metadata": {},
   "outputs": [
    {
     "name": "stdout",
     "output_type": "stream",
     "text": [
      "3\n",
      "3.1416\n"
     ]
    }
   ],
   "source": [
    "print(round(3.14159))\n",
    "print(round(3.14159,4))"
   ]
  },
  {
   "cell_type": "markdown",
   "id": "420983cd",
   "metadata": {},
   "source": [
    "**VERİ TİPİ DÖNÜŞÜMLERİ**"
   ]
  },
  {
   "cell_type": "markdown",
   "id": "ba867aa0",
   "metadata": {},
   "source": [
    "**Tam Sayıyı Ondalıklı Sayıya Çevirme**"
   ]
  },
  {
   "cell_type": "code",
   "execution_count": 4,
   "id": "26fa9e88",
   "metadata": {},
   "outputs": [],
   "source": [
    "#Çevireceğimiz sayıyı parantez içine alırız."
   ]
  },
  {
   "cell_type": "code",
   "execution_count": 5,
   "id": "94b35d47",
   "metadata": {},
   "outputs": [
    {
     "data": {
      "text/plain": [
       "45.0"
      ]
     },
     "execution_count": 5,
     "metadata": {},
     "output_type": "execute_result"
    }
   ],
   "source": [
    "a=45\n",
    "float(a)"
   ]
  },
  {
   "cell_type": "code",
   "execution_count": 6,
   "id": "eb6c4154",
   "metadata": {},
   "outputs": [
    {
     "data": {
      "text/plain": [
       "28.0"
      ]
     },
     "execution_count": 6,
     "metadata": {},
     "output_type": "execute_result"
    }
   ],
   "source": [
    "float(28)"
   ]
  },
  {
   "cell_type": "markdown",
   "id": "213499e0",
   "metadata": {},
   "source": [
    "**Ondalıklı Sayıyı Tam Sayıya Çevirme**"
   ]
  },
  {
   "cell_type": "code",
   "execution_count": 8,
   "id": "de1984ae",
   "metadata": {},
   "outputs": [],
   "source": [
    "#Bir ondalıklı sayıyı tam sayıya çevirmek için int() fonksiyonunu kullanabiliriz. \n",
    "#Sonuç, ondalıklı sayının tam kısmı şeklinde karşımıza çıkacaktır."
   ]
  },
  {
   "cell_type": "code",
   "execution_count": 9,
   "id": "eb439bc8",
   "metadata": {},
   "outputs": [
    {
     "data": {
      "text/plain": [
       "35"
      ]
     },
     "execution_count": 9,
     "metadata": {},
     "output_type": "execute_result"
    }
   ],
   "source": [
    "a=35.50\n",
    "int(a)"
   ]
  },
  {
   "cell_type": "code",
   "execution_count": 10,
   "id": "794af9d9",
   "metadata": {},
   "outputs": [
    {
     "data": {
      "text/plain": [
       "3"
      ]
     },
     "execution_count": 10,
     "metadata": {},
     "output_type": "execute_result"
    }
   ],
   "source": [
    "int(3.14)"
   ]
  },
  {
   "cell_type": "markdown",
   "id": "f696a6d6",
   "metadata": {},
   "source": [
    "**Sayıları stringlere çevirme**"
   ]
  },
  {
   "cell_type": "code",
   "execution_count": 11,
   "id": "f65b78e3",
   "metadata": {},
   "outputs": [],
   "source": [
    "#Bir sayıyı stringe çevirmek için str() fonksiyonunu kullanabiliriz. \n",
    "#Sayıyı oluşturan tüm rakamlar veya noktalar birer karaktere dönüşecektir."
   ]
  },
  {
   "cell_type": "code",
   "execution_count": 21,
   "id": "b3096ae5",
   "metadata": {},
   "outputs": [
    {
     "name": "stdout",
     "output_type": "stream",
     "text": [
      "<class 'str'>\n"
     ]
    }
   ],
   "source": [
    "a=3256.50\n",
    "a=str(a)\n",
    "print(type(a))\n"
   ]
  },
  {
   "cell_type": "code",
   "execution_count": 18,
   "id": "d57d6b78",
   "metadata": {},
   "outputs": [
    {
     "data": {
      "text/plain": [
       "'452'"
      ]
     },
     "execution_count": 18,
     "metadata": {},
     "output_type": "execute_result"
    }
   ],
   "source": [
    "x=452\n",
    "str(x)"
   ]
  },
  {
   "cell_type": "code",
   "execution_count": 26,
   "id": "9ce66c8c",
   "metadata": {},
   "outputs": [
    {
     "data": {
      "text/plain": [
       "3"
      ]
     },
     "execution_count": 26,
     "metadata": {},
     "output_type": "execute_result"
    }
   ],
   "source": [
    "a=3.10000\n",
    "\n",
    "len(str(a))"
   ]
  },
  {
   "cell_type": "code",
   "execution_count": 27,
   "id": "e502ff0c",
   "metadata": {},
   "outputs": [
    {
     "ename": "TypeError",
     "evalue": "object of type 'int' has no len()",
     "output_type": "error",
     "traceback": [
      "\u001b[1;31m---------------------------------------------------------------------------\u001b[0m",
      "\u001b[1;31mTypeError\u001b[0m                                 Traceback (most recent call last)",
      "Input \u001b[1;32mIn [27]\u001b[0m, in \u001b[0;36m<cell line: 2>\u001b[1;34m()\u001b[0m\n\u001b[0;32m      1\u001b[0m y\u001b[38;5;241m=\u001b[39m\u001b[38;5;241m2145\u001b[39m\n\u001b[1;32m----> 2\u001b[0m \u001b[38;5;28;43mlen\u001b[39;49m\u001b[43m(\u001b[49m\u001b[43my\u001b[49m\u001b[43m)\u001b[49m\n",
      "\u001b[1;31mTypeError\u001b[0m: object of type 'int' has no len()"
     ]
    }
   ],
   "source": [
    "y=2145\n",
    "len(y)"
   ]
  },
  {
   "cell_type": "code",
   "execution_count": 28,
   "id": "336f1ad8",
   "metadata": {},
   "outputs": [],
   "source": [
    "#Kodumuz hata verdi çünkü y değişkeni bir string değil integer idi."
   ]
  },
  {
   "cell_type": "code",
   "execution_count": 29,
   "id": "b03fa7a9",
   "metadata": {},
   "outputs": [
    {
     "data": {
      "text/plain": [
       "4"
      ]
     },
     "execution_count": 29,
     "metadata": {},
     "output_type": "execute_result"
    }
   ],
   "source": [
    "y=2145\n",
    "len(str(y))"
   ]
  },
  {
   "cell_type": "code",
   "execution_count": 30,
   "id": "bbfc4b9a",
   "metadata": {},
   "outputs": [
    {
     "name": "stdout",
     "output_type": "stream",
     "text": [
      "<class 'int'>\n"
     ]
    }
   ],
   "source": [
    "print(type(y))"
   ]
  },
  {
   "cell_type": "code",
   "execution_count": 31,
   "id": "af3c9db0",
   "metadata": {},
   "outputs": [
    {
     "name": "stdout",
     "output_type": "stream",
     "text": [
      "<class 'str'>\n"
     ]
    }
   ],
   "source": [
    "y=2145\n",
    "k=str(y)\n",
    "print(type(k))"
   ]
  },
  {
   "cell_type": "code",
   "execution_count": 32,
   "id": "654f58ef",
   "metadata": {},
   "outputs": [
    {
     "data": {
      "text/plain": [
       "4"
      ]
     },
     "execution_count": 32,
     "metadata": {},
     "output_type": "execute_result"
    }
   ],
   "source": [
    "a=str(3.14)\n",
    "len(a)"
   ]
  },
  {
   "cell_type": "markdown",
   "id": "cfe1cc31",
   "metadata": {},
   "source": [
    "**Stringleri Tam Sayıya Çevirme**"
   ]
  },
  {
   "cell_type": "markdown",
   "id": "2fb72b94",
   "metadata": {},
   "source": [
    "Bir stringi bir tam sayıya çevirmek için int() fonksiyonunu kullanabiliriz. \n",
    "Ancak dönüştürme işlemini yaparken stringin her karakterinin bir rakam olduğundan emin olmalıyız."
   ]
  },
  {
   "cell_type": "code",
   "execution_count": 37,
   "id": "ee3c6441",
   "metadata": {},
   "outputs": [
    {
     "name": "stdout",
     "output_type": "stream",
     "text": [
      "656565\n"
     ]
    }
   ],
   "source": [
    "#Doğru\n",
    "a='656565'\n",
    "b=int(a)\n",
    "print(b)"
   ]
  },
  {
   "cell_type": "code",
   "execution_count": 38,
   "id": "497b173f",
   "metadata": {},
   "outputs": [
    {
     "data": {
      "text/plain": [
       "int"
      ]
     },
     "execution_count": 38,
     "metadata": {},
     "output_type": "execute_result"
    }
   ],
   "source": [
    "type(b)"
   ]
  },
  {
   "cell_type": "code",
   "execution_count": 39,
   "id": "a22c5e4e",
   "metadata": {},
   "outputs": [
    {
     "ename": "ValueError",
     "evalue": "invalid literal for int() with base 10: 'sdx5452xs'",
     "output_type": "error",
     "traceback": [
      "\u001b[1;31m---------------------------------------------------------------------------\u001b[0m",
      "\u001b[1;31mValueError\u001b[0m                                Traceback (most recent call last)",
      "Input \u001b[1;32mIn [39]\u001b[0m, in \u001b[0;36m<cell line: 3>\u001b[1;34m()\u001b[0m\n\u001b[0;32m      1\u001b[0m \u001b[38;5;66;03m#Hatalı- Her bir karakter onluk tabanda olmalıdır.\u001b[39;00m\n\u001b[0;32m      2\u001b[0m a\u001b[38;5;241m=\u001b[39m\u001b[38;5;124m'\u001b[39m\u001b[38;5;124msdx5452xs\u001b[39m\u001b[38;5;124m'\u001b[39m\n\u001b[1;32m----> 3\u001b[0m b\u001b[38;5;241m=\u001b[39m\u001b[38;5;28;43mint\u001b[39;49m\u001b[43m(\u001b[49m\u001b[43ma\u001b[49m\u001b[43m)\u001b[49m\n\u001b[0;32m      4\u001b[0m \u001b[38;5;28mprint\u001b[39m(b)\n",
      "\u001b[1;31mValueError\u001b[0m: invalid literal for int() with base 10: 'sdx5452xs'"
     ]
    }
   ],
   "source": [
    "#Hatalı- Her bir karakter onluk tabanda olmalıdır.\n",
    "a='sdx5452xs'\n",
    "b=int(a)\n",
    "print(b)"
   ]
  },
  {
   "cell_type": "markdown",
   "id": "b06fe0be",
   "metadata": {},
   "source": [
    "**Stringleri Ondalık Sayıya Çevirme**"
   ]
  },
  {
   "cell_type": "markdown",
   "id": "a262a2ec",
   "metadata": {},
   "source": [
    "Bir stringi bir ondalıklı sayıya çevirmek için float() fonksiyonunu kullanabiliriz. \n",
    "Ancak dönüştürme işlemini yaparken stringin ondalıklı sayı formatına uygun olduğundan emin olmalıyız."
   ]
  },
  {
   "cell_type": "code",
   "execution_count": 40,
   "id": "0682d470",
   "metadata": {},
   "outputs": [
    {
     "name": "stdout",
     "output_type": "stream",
     "text": [
      "3.144455\n"
     ]
    }
   ],
   "source": [
    "#Doğru\n",
    "a='3.144455'\n",
    "b=float(a)\n",
    "print(b)"
   ]
  },
  {
   "cell_type": "code",
   "execution_count": 41,
   "id": "6d557f70",
   "metadata": {},
   "outputs": [
    {
     "data": {
      "text/plain": [
       "float"
      ]
     },
     "execution_count": 41,
     "metadata": {},
     "output_type": "execute_result"
    }
   ],
   "source": [
    "type(b)"
   ]
  },
  {
   "cell_type": "code",
   "execution_count": 42,
   "id": "e30f3e81",
   "metadata": {},
   "outputs": [
    {
     "ename": "SyntaxError",
     "evalue": "invalid syntax (2258683701.py, line 2)",
     "output_type": "error",
     "traceback": [
      "\u001b[1;36m  Input \u001b[1;32mIn [42]\u001b[1;36m\u001b[0m\n\u001b[1;33m    a=3.14.325\u001b[0m\n\u001b[1;37m          ^\u001b[0m\n\u001b[1;31mSyntaxError\u001b[0m\u001b[1;31m:\u001b[0m invalid syntax\n"
     ]
    }
   ],
   "source": [
    "#Hatalı\n",
    "a=3.14.325\n",
    "float(a)"
   ]
  },
  {
   "cell_type": "code",
   "execution_count": null,
   "id": "5acdd0d7",
   "metadata": {},
   "outputs": [],
   "source": []
  }
 ],
 "metadata": {
  "kernelspec": {
   "display_name": "Python 3 (ipykernel)",
   "language": "python",
   "name": "python3"
  },
  "language_info": {
   "codemirror_mode": {
    "name": "ipython",
    "version": 3
   },
   "file_extension": ".py",
   "mimetype": "text/x-python",
   "name": "python",
   "nbconvert_exporter": "python",
   "pygments_lexer": "ipython3",
   "version": "3.9.12"
  }
 },
 "nbformat": 4,
 "nbformat_minor": 5
}
