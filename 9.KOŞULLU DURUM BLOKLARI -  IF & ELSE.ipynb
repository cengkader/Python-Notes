{
 "cells": [
  {
   "cell_type": "markdown",
   "id": "8429b6f4",
   "metadata": {},
   "source": [
    "**Python Programlarının Çalışma Mantığı:**"
   ]
  },
  {
   "cell_type": "markdown",
   "id": "f1d33252",
   "metadata": {},
   "source": [
    "Python programları çalışmaya başladığı zaman kodlarımız yukarıdan başlayarak teker teker çalıştırılır ve çalıştırılacak kod kalmayınca program sona erer."
   ]
  },
  {
   "cell_type": "code",
   "execution_count": 9,
   "id": "ed5b692e",
   "metadata": {},
   "outputs": [
    {
     "name": "stdout",
     "output_type": "stream",
     "text": [
      "9\n"
     ]
    }
   ],
   "source": [
    "#ÖRNEK:\n",
    "a=2\n",
    "b=3\n",
    "c=4\n",
    "print(a+b+c)"
   ]
  },
  {
   "cell_type": "markdown",
   "id": "e8a01a38",
   "metadata": {},
   "source": [
    "Yukarıdaki örnekte olduğu gibi basit kodlarda program teker teker her bir satırı ve ifadeyi çalıştırır ve çalıştırılacak kod kalmayınca program sona erer. Ancak Python'da her program bu kadar basit olmayabilir. Çoğu zaman Python programları belli bloklardan oluşur ve bu bloklar her zaman çalışmak zorunda olmaz. \n",
    "Peki bu bloklar nasıl tanımlanır ?\n",
    "\n",
    "**Python'da bir blok tanımlama işlemi GİRİNTİLER sayesinde olmaktadır.**"
   ]
  },
  {
   "cell_type": "code",
   "execution_count": 10,
   "id": "ce25a6e6",
   "metadata": {},
   "outputs": [
    {
     "name": "stdout",
     "output_type": "stream",
     "text": [
      "2\n",
      "Merhaba\n"
     ]
    }
   ],
   "source": [
    "#ÖRNEK:\n",
    "\n",
    "a=2    #Blok 1'e ait kod\n",
    "if(a==2):\n",
    "    print(a)    #Blok 2'ye ait kod\n",
    "print(\"Merhaba\")    #Blok 1'e ait kod\n"
   ]
  },
  {
   "cell_type": "markdown",
   "id": "fc575b83",
   "metadata": {},
   "source": [
    "NOT: Burada if'in bulunduğu satırdan sonraki kodu girintili(1 tab kadar) yazdık. Burada gördüğümüz gibi girintiler(tab) Python'da blok oluşturmak için kullanılır ve her bloğun çalıştırılması gerekmez.\n",
    "\n",
    "\n",
    "Yukarıdaki kodda her iki print işlemi de çalıştı ancak kodu şu şekilde yazsaydık ilk print işlemi çalışmayacaktı :"
   ]
  },
  {
   "cell_type": "code",
   "execution_count": 11,
   "id": "cb387008",
   "metadata": {},
   "outputs": [
    {
     "name": "stdout",
     "output_type": "stream",
     "text": [
      "Merhaba\n"
     ]
    }
   ],
   "source": [
    "#ÖRNEK:\n",
    "\n",
    "a=2    #Blok 1'e ait kod\n",
    "if(a==3):\n",
    "    print(a)    #Blok 2'ye ait kod\n",
    "print(\"Merhaba\")    #Blok 1'e ait kod"
   ]
  },
  {
   "cell_type": "markdown",
   "id": "f8ff8cd9",
   "metadata": {},
   "source": [
    "**KOŞULLU DURUMLAR**"
   ]
  },
  {
   "cell_type": "markdown",
   "id": "224585e8",
   "metadata": {},
   "source": [
    "**if Bloğu**"
   ]
  },
  {
   "cell_type": "markdown",
   "id": "5b33c0eb",
   "metadata": {},
   "source": [
    "\"if bloğu\" programımızın içinde herhangi bir yerde belli bir koşulu kontrol edecek isek kulanılan bloklardır.\n",
    "\n",
    "Yazımı şu şekildedir:"
   ]
  },
  {
   "cell_type": "markdown",
   "id": "f418a876",
   "metadata": {},
   "source": [
    "if(koşul):\n",
    "\n",
    "#if bloğu- Koşul sağlanınca (True) çalışır.Bu hizadaki her işlem bu if bloğuna ait.\n",
    "\n",
    "#if bloğu- Girintiyle oluşturulur.\n",
    "\n",
    "Yapılacak işlemler"
   ]
  },
  {
   "cell_type": "markdown",
   "id": "f2730fe1",
   "metadata": {},
   "source": [
    "NOT: \"if bloğu\" eğer koşul sağlanırsa anlamı taşır.Eğer if kalıbındaki koşul sağlanırsa(True)\n",
    "    if bloğu çalıştırılır, koşul sağlanmazsa (False) if bloğu çalıştırılmaz."
   ]
  },
  {
   "cell_type": "markdown",
   "id": "e3187f8d",
   "metadata": {},
   "source": [
    "**ÖRNEK:**"
   ]
  },
  {
   "cell_type": "code",
   "execution_count": 14,
   "id": "14a5dfcd",
   "metadata": {},
   "outputs": [
    {
     "name": "stdout",
     "output_type": "stream",
     "text": [
      "Yaşınızı giriniz:21\n",
      "Bu mekana girebilirsiniz.\n"
     ]
    }
   ],
   "source": [
    "#18 yaş kontrolü:\n",
    "yaş=int(input(\"Yaşınızı giriniz:\"))\n",
    "if(yaş>=18):\n",
    "    print(\"Bu mekana girebilirsiniz.\")\n",
    "    #if bloğu - Girinti ile sağlanıyor.\n",
    "if(yaş<=18):\n",
    "    print(\"Bu mekana giremezsiniz.\")"
   ]
  },
  {
   "cell_type": "markdown",
   "id": "e05ebcd8",
   "metadata": {},
   "source": [
    "**else Bloğu**"
   ]
  },
  {
   "cell_type": "markdown",
   "id": "f7f9adc9",
   "metadata": {},
   "source": [
    "else blokları if koşulu sağlanmadığı zaman (False) çalışan bloklardır.\n",
    "\n",
    "Kullanımı şu şekildedir:"
   ]
  },
  {
   "cell_type": "code",
   "execution_count": null,
   "id": "ccc477dd",
   "metadata": {},
   "outputs": [],
   "source": [
    "else:\n",
    "    #else bloğu- Yukarısındaki herhangi bir if bloğu(veya elif bloğu) çalışmadığı zaman çalışır.\n",
    "    #else bloğu- Girintiyle oluşturulur.\n",
    "    Yapılacak işlemler"
   ]
  },
  {
   "cell_type": "markdown",
   "id": "ece799f8",
   "metadata": {},
   "source": [
    "Not:else'in yanına herhangi bir koşul yazmadık çünkü zaten else bloğunun çalışması ondan önce gelen\n",
    "    diğer koşulların sağlanmamasına bağlı oluyor."
   ]
  },
  {
   "cell_type": "code",
   "execution_count": 19,
   "id": "b630e75a",
   "metadata": {},
   "outputs": [
    {
     "name": "stdout",
     "output_type": "stream",
     "text": [
      "Yaşınızı giriniz:14\n",
      "Bu mekana giremezsiniz.\n"
     ]
    }
   ],
   "source": [
    "#18 yaş kontrolü:\n",
    "yaş=int(input(\"Yaşınızı giriniz:\"))\n",
    "if(yaş>=18):\n",
    "    print(\"Bu mekana girebilirsiniz.\")\n",
    "    #if bloğu - Girinti ile sağlanıyor.\n",
    "else:\n",
    "    print(\"Bu mekana giremezsiniz.\")"
   ]
  },
  {
   "cell_type": "code",
   "execution_count": 3,
   "id": "e6ee06c2",
   "metadata": {},
   "outputs": [
    {
     "name": "stdout",
     "output_type": "stream",
     "text": [
      "Bir sayı giriniz:5\n",
      "5 pozitif sayıdır.\n"
     ]
    }
   ],
   "source": [
    "sayı=int(input(\"Bir sayı giriniz:\"))\n",
    "\n",
    "\n",
    "if sayı>0:\n",
    "    print(sayı,\"pozitif sayıdır.\")\n",
    "\n",
    "else:\n",
    "    print(sayı,\"pozitif bir sayı değildir.\")"
   ]
  },
  {
   "cell_type": "code",
   "execution_count": null,
   "id": "2414ca3a",
   "metadata": {},
   "outputs": [],
   "source": []
  },
  {
   "cell_type": "code",
   "execution_count": null,
   "id": "7b7952ee",
   "metadata": {},
   "outputs": [],
   "source": []
  },
  {
   "cell_type": "code",
   "execution_count": null,
   "id": "551f1d71",
   "metadata": {},
   "outputs": [],
   "source": []
  }
 ],
 "metadata": {
  "kernelspec": {
   "display_name": "Python 3 (ipykernel)",
   "language": "python",
   "name": "python3"
  },
  "language_info": {
   "codemirror_mode": {
    "name": "ipython",
    "version": 3
   },
   "file_extension": ".py",
   "mimetype": "text/x-python",
   "name": "python",
   "nbconvert_exporter": "python",
   "pygments_lexer": "ipython3",
   "version": "3.9.12"
  }
 },
 "nbformat": 4,
 "nbformat_minor": 5
}
